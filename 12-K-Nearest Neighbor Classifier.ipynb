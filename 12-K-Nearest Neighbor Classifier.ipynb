{
 "cells": [
  {
   "cell_type": "markdown",
   "metadata": {},
   "source": [
    "### K-Nearest Neighbor Classifier\n",
    "\n",
    "#### The K-Nearest Neighbor (KNN) classifier is a very simple learning method but performs remarkably well considering its simple approach. To predict a classification using KNN we identify the K nearest points from the training set and then assign the new point to the class having the largest number of representatives amongst this set.\n",
    "#### In the nearest neighbor K = 1 classification case, the decision boundary is composed of hyperplanes that form perpendicular bisectors of pairs of points from different classes. This case is known as the $nearest-neighbor \\space rule$ because a test point is simply assigned to the same class as the nearest point in the training set.\n",
    "   \n",
    "<img style=\"float: l;\" src=\"./images/knn.png\" width=\"500px\">   \n",
    "\n",
    "$$\n",
    "\\begin{aligned}\n",
    "KNN\\space is\\space prone\\space to\\space both\\space overfitting\\space our\\space data\\space if\\space K\\space is\\space too\\space small\\space and\\space underfitting\\space our\\space data\\space if\\space K\\space is\\space too\\space large.\n",
    "\\end{aligned}\n",
    "$$\n",
    "\n",
    "<BR>\n",
    "\n",
    "<img align=\"center\" style=\"float: l;\" src=\"./images/distance-measures.png\" width=\"500px\">\n",
    "\n"
   ]
  },
  {
   "cell_type": "markdown",
   "metadata": {},
   "source": [
    "                                           \n",
    "### Environment Setup"
   ]
  },
  {
   "cell_type": "code",
   "execution_count": 1,
   "metadata": {},
   "outputs": [],
   "source": [
    "import re\n",
    "import nltk\n",
    "import numpy as np\n",
    "import pandas as pd\n",
    "import pickle as pkl\n",
    "from sklearn.feature_extraction.text import CountVectorizer\n",
    "from sklearn.feature_extraction.text import TfidfVectorizer\n",
    "from sklearn.neighbors import KNeighborsClassifier\n",
    "from sklearn.model_selection import KFold\n",
    "from sklearn.metrics import roc_curve, auc\n",
    "from nltk.corpus import stopwords\n",
    "%matplotlib inline \n",
    "import matplotlib.pyplot as plt"
   ]
  },
  {
   "cell_type": "markdown",
   "metadata": {},
   "source": [
    "### Syntatic NLP Processing\n",
    "\n",
    "#### We will define some Python functions that will perform some syntatic work on our corpus. "
   ]
  },
  {
   "cell_type": "code",
   "execution_count": 2,
   "metadata": {},
   "outputs": [
    {
     "name": "stdout",
     "output_type": "stream",
     "text": [
      "['i', 'me', 'my', 'myself', 'we', 'our', 'ours', 'ourselves', 'you', \"you're\", \"you've\", \"you'll\", \"you'd\", 'your', 'yours', 'yourself', 'yourselves', 'he', 'him', 'his', 'himself', 'she', \"she's\", 'her', 'hers', 'herself', 'it', \"it's\", 'its', 'itself', 'they', 'them', 'their', 'theirs', 'themselves', 'what', 'which', 'who', 'whom', 'this', 'that', \"that'll\", 'these', 'those', 'am', 'is', 'are', 'was', 'were', 'be', 'been', 'being', 'have', 'has', 'had', 'having', 'do', 'does', 'did', 'doing', 'a', 'an', 'the', 'and', 'but', 'if', 'or', 'because', 'as', 'until', 'while', 'of', 'at', 'by', 'for', 'with', 'about', 'against', 'between', 'into', 'through', 'during', 'before', 'after', 'above', 'below', 'to', 'from', 'up', 'down', 'in', 'out', 'on', 'off', 'over', 'under', 'again', 'further', 'then', 'once', 'here', 'there', 'when', 'where', 'why', 'how', 'all', 'any', 'both', 'each', 'few', 'more', 'most', 'other', 'some', 'such', 'no', 'nor', 'not', 'only', 'own', 'same', 'so', 'than', 'too', 'very', 's', 't', 'can', 'will', 'just', 'don', \"don't\", 'should', \"should've\", 'now', 'd', 'll', 'm', 'o', 're', 've', 'y', 'ain', 'aren', \"aren't\", 'couldn', \"couldn't\", 'didn', \"didn't\", 'doesn', \"doesn't\", 'hadn', \"hadn't\", 'hasn', \"hasn't\", 'haven', \"haven't\", 'isn', \"isn't\", 'ma', 'mightn', \"mightn't\", 'mustn', \"mustn't\", 'needn', \"needn't\", 'shan', \"shan't\", 'shouldn', \"shouldn't\", 'wasn', \"wasn't\", 'weren', \"weren't\", 'won', \"won't\", 'wouldn', \"wouldn't\", 'year', 'old', 'man', 'woman', 'ap', 'am', 'pm', 'portable', 'pa', 'lat', 'admitting', 'diagnosis', 'lateral']\n"
     ]
    }
   ],
   "source": [
    "def tokenize(text):\n",
    "    tokens = [word for sent in nltk.sent_tokenize(text) for word in nltk.word_tokenize(sent)]\n",
    "    filtered_tokens = [ token for token in tokens if re.search('(^[a-zA-Z]+$)', token) ]\n",
    "    return filtered_tokens\n",
    "\n",
    "cachedStopWords = stopwords.words(\"english\")\n",
    "noisywords = ['year', 'old', 'man', 'woman', 'ap', 'am', 'pm', 'portable', 'pa', 'lat', 'admitting', 'diagnosis', 'lateral']\n",
    "cachedStopWords.extend(noisywords)\n",
    "print(cachedStopWords)"
   ]
  },
  {
   "cell_type": "markdown",
   "metadata": {},
   "source": [
    "### Retrieving our Corpus\n",
    "\n",
    "#### Let's pull in our corpus that we had serialized out to disk.  "
   ]
  },
  {
   "cell_type": "code",
   "execution_count": 4,
   "metadata": {},
   "outputs": [
    {
     "data": {
      "text/html": [
       "<div>\n",
       "<style scoped>\n",
       "    .dataframe tbody tr th:only-of-type {\n",
       "        vertical-align: middle;\n",
       "    }\n",
       "\n",
       "    .dataframe tbody tr th {\n",
       "        vertical-align: top;\n",
       "    }\n",
       "\n",
       "    .dataframe thead th {\n",
       "        text-align: right;\n",
       "    }\n",
       "</style>\n",
       "<table border=\"1\" class=\"dataframe\">\n",
       "  <thead>\n",
       "    <tr style=\"text-align: right;\">\n",
       "      <th></th>\n",
       "      <th>text</th>\n",
       "      <th>label</th>\n",
       "    </tr>\n",
       "  </thead>\n",
       "  <tbody>\n",
       "    <tr>\n",
       "      <th>0</th>\n",
       "      <td>[**2996-12-2**] 10:25 AM\\n CT CHEST W/O CONTRA...</td>\n",
       "      <td>PNA</td>\n",
       "    </tr>\n",
       "    <tr>\n",
       "      <th>1</th>\n",
       "      <td>[**3201-9-21**] 4:50 PM\\n CT CHEST W/CONTRAST ...</td>\n",
       "      <td>PNA</td>\n",
       "    </tr>\n",
       "    <tr>\n",
       "      <th>2</th>\n",
       "      <td>[**3299-6-23**] 5:06 PM\\n CT CHEST W/CONTRAST ...</td>\n",
       "      <td>PNA</td>\n",
       "    </tr>\n",
       "    <tr>\n",
       "      <th>3</th>\n",
       "      <td>[**3186-6-14**] 2:54 PM\\n CT CHEST W/CONTRAST ...</td>\n",
       "      <td>PNA</td>\n",
       "    </tr>\n",
       "    <tr>\n",
       "      <th>4</th>\n",
       "      <td>[**2500-1-17**] 9:41 PM\\n CT CHEST W/O CONTRAS...</td>\n",
       "      <td>PNA</td>\n",
       "    </tr>\n",
       "  </tbody>\n",
       "</table>\n",
       "</div>"
      ],
      "text/plain": [
       "                                                text label\n",
       "0  [**2996-12-2**] 10:25 AM\\n CT CHEST W/O CONTRA...   PNA\n",
       "1  [**3201-9-21**] 4:50 PM\\n CT CHEST W/CONTRAST ...   PNA\n",
       "2  [**3299-6-23**] 5:06 PM\\n CT CHEST W/CONTRAST ...   PNA\n",
       "3  [**3186-6-14**] 2:54 PM\\n CT CHEST W/CONTRAST ...   PNA\n",
       "4  [**2500-1-17**] 9:41 PM\\n CT CHEST W/O CONTRAS...   PNA"
      ]
     },
     "execution_count": 4,
     "metadata": {},
     "output_type": "execute_result"
    }
   ],
   "source": [
    "file = open('differential-corpus.pkl','rb')\n",
    "corpus = pkl.load(file)\n",
    "file.close()\n",
    "corpusList = list(corpus['text'].tolist())\n",
    "labels = list(corpus['label'].tolist())\n",
    "corpus.head()"
   ]
  },
  {
   "cell_type": "markdown",
   "metadata": {},
   "source": [
    "### Generate Document-Term Frequency Counts\n",
    "\n",
    "#### In this step we tokenize our text and remove stop words in addition to generating our frequency counts.\n",
    "\n",
    "#### 1) How many documents are we working with and how many features (unigrams & bigrams)?\n",
    "\n",
    "#### 2) Can you figure out what max_df and min_df is doing to our feature count?"
   ]
  },
  {
   "cell_type": "code",
   "execution_count": 5,
   "metadata": {},
   "outputs": [
    {
     "name": "stderr",
     "output_type": "stream",
     "text": [
      "D:\\anaconda3\\lib\\site-packages\\sklearn\\feature_extraction\\text.py:300: UserWarning: Your stop_words may be inconsistent with your preprocessing. Tokenizing the stop words generated tokens ['could', 'might', 'must', 'need', 'sha', 'wo', 'would'] not in stop_words.\n",
      "  'stop_words.' % sorted(inconsistent))\n"
     ]
    },
    {
     "name": "stdout",
     "output_type": "stream",
     "text": [
      "(1500, 920)\n",
      "\n",
      "['abdomen', 'abdomen pelvis', 'abdominal', 'abnormalities', 'abnormality', 'acquired', 'acute', 'addition', 'additional', 'additionally', 'adenopathy', 'adjacent', 'administered', 'administration', 'administration cc', 'administration iv', 'admitted', 'adrenal', 'adrenal glands', 'air', 'air bronchograms', 'airspace', 'airways', 'airways patent', 'allowing', 'along', 'also', 'also noted', 'although', 'alveolar', 'amount', 'amt', 'amt final', 'amt underlying', 'angle', 'anterior', 'aorta', 'aortic', 'apex', 'apical', 'apices', 'appear', 'appearance', 'appears', 'appropriate', 'approximately', 'approximately cm', 'arch', 'area', 'areas', 'areas consolidation', 'arterial', 'arteries', 'artery', 'artery calcifications', 'ascites', 'aspect', 'aspiration', 'assess', 'assessment', 'associated', 'asthma', 'atelectasis', 'atelectasis left', 'atelectasis right', 'atherosclerotic', 'atrial', 'atrium', 'attenuation', 'available', 'axial', 'axial images', 'axillary', 'axillary lymphadenopathy', 'axis', 'background', 'base', 'bases', 'basilar', 'bibasilar', 'bibasilar atelectasis', 'bilateral', 'bilateral lower', 'bilateral pleural', 'bilaterally', 'bladder', 'blastic', 'blunting', 'body', 'bone', 'bone windows', 'bones', 'bowel', 'breath', 'bronchi', 'bronchial', 'bronchograms', 'bronchus', 'c', 'c recons', 'ca', 'cabg', 'cad', 'calcification', 'calcifications', 'calcified', 'caliber', 'cancer', 'cardiac', 'cardiac mediastinal', 'cardiac silhouette', 'cardiomediastinal', 'cardiomediastinal silhouette', 'cardiomegaly', 'carina', 'catheter', 'cc', 'cc optiray', 'central', 'central venous', 'centrilobular', 'centrilobular emphysema', 'change', 'change final', 'changed', 'changes', 'chest clip', 'chest compared', 'chest comparison', 'chest contrast', 'chest ct', 'chest history', 'chest indication', 'chest obtained', 'chest pain', 'chest performed', 'chest radiograph', 'chest radiographs', 'chest single', 'chest tube', 'chest w', 'chest wall', 'chest without', 'chf', 'chf final', 'chronic', 'clear', 'clinical', 'clinical history', 'clinical indication', 'clinically', 'clips', 'cm', 'cm carina', 'collapse', 'collimation', 'colon', 'compared', 'compared location', 'compared prior', 'comparison', 'comparison chest', 'comparison ct', 'comparison findings', 'comparison made', 'comparison prior', 'comparison technique', 'comparisons', 'compatible', 'complete', 'component', 'compression', 'concern', 'concerning', 'condition chf', 'condition copd', 'condition severe', 'condition sob', 'confluent', 'congestion', 'congestive', 'congestive heart', 'considered', 'consistent', 'consolidation', 'consolidation left', 'consolidation right', 'consolidations', 'cont', 'contiguous', 'contiguous axial', 'continued', 'contour', 'contours', 'contours stable', 'contours unchanged', 'contraindications', 'contraindications iv', 'contrast', 'contrast clip', 'contrast ct', 'contrast final', 'contrast optiray', 'contrast wet', 'copd', 'copd exacerbation', 'copd flare', 'coronal', 'coronal sagittal', 'coronary', 'coronary arteries', 'coronary artery', 'correlation', 'costophrenic', 'costophrenic angle', 'cough', 'could', 'could represent', 'criteria', 'ct', 'ct abdomen', 'ct chest', 'ct non', 'ct pelvis', 'cta', 'cta chest', 'cxr', 'cyst', 'dated', 'day', 'days', 'decrease', 'decreased', 'defects', 'definite', 'degenerative', 'degenerative changes', 'degree', 'demonstrate', 'demonstrated', 'demonstrates', 'dense', 'density', 'dependent', 'described', 'diameter', 'diaphragm', 'differential', 'difficult', 'diffuse', 'dilatation', 'discussed', 'discussed name', 'disease', 'distal', 'distress', 'distress reason', 'distribution', 'due', 'dyspnea', 'earlier', 'edema', 'edema final', 'effusion', 'effusion final', 'effusion left', 'effusion pneumothorax', 'effusion right', 'effusion small', 'effusion underlying', 'effusions', 'effusions final', 'effusions right', 'either', 'elevated', 'embolism', 'embolus', 'emphysema', 'emphysematous', 'emphysematous changes', 'endotracheal', 'endotracheal tube', 'enlarged', 'enlarged mediastinal', 'enlargement', 'esophagus', 'et', 'et tube', 'etiology', 'ett', 'eval', 'evaluate', 'evaluated', 'evaluation', 'evidence', 'evidence pneumothorax', 'evidence pulmonary', 'exacerbation', 'exacerbation underlying', 'exam', 'examination assess', 'examination eval', 'examination evaluate', 'examination please', 'exclude', 'excluded', 'extending', 'extensive', 'extent', 'failure', 'failure underlying', 'female', 'fever', 'fevers', 'field', 'field view', 'filling', 'filling defects', 'film', 'films', 'findings', 'findings discussed', 'findings impression', 'first', 'first name', 'fissure', 'flare', 'fluid', 'focal', 'focal consolidation', 'foci', 'foley', 'foley catheter', 'follow', 'following', 'followup', 'fracture', 'fractures', 'free', 'free air', 'free fluid', 'frontal', 'gallbladder', 'given', 'glands', 'glass', 'glass opacities', 'great', 'great vessels', 'greater', 'greater left', 'greater right', 'grossly', 'ground', 'ground glass', 'heart', 'heart enlarged', 'heart failure', 'heart normal', 'heart size', 'helical', 'hemidiaphragm', 'hemithorax', 'hernia', 'high', 'hilar', 'hilar contours', 'hilar lymph', 'hilar lymphadenopathy', 'history', 'history copd', 'hours', 'however', 'hx', 'hyperinflated', 'hypertension', 'hypoxia', 'hypoxia reason', 'identified', 'identified impression', 'ij', 'image', 'imaged', 'images', 'images chest', 'images obtained', 'imaging', 'impression evidence', 'impression interval', 'impression pfi', 'improved', 'improvement', 'improving', 'including', 'incompletely', 'increase', 'increased', 'increased size', 'increasing', 'indication', 'indication history', 'indication male', 'indication shortness', 'indications', 'infection', 'infectious', 'infectious process', 'infiltrate', 'infiltrate final', 'infiltrates', 'initial', 'initial pre', 'inlet', 'internal', 'internal jugular', 'interstitial', 'interstitial edema', 'interval', 'interval change', 'interval improvement', 'interval increase', 'intravenous', 'intravenous contrast', 'intubated', 'intubation', 'involving', 'ionic', 'ionic contrast', 'iv', 'iv contrast', 'jugular', 'junction', 'kidney', 'kidneys', 'known', 'l', 'large', 'largest', 'last', 'last name', 'layering', 'leads', 'left', 'left base', 'left costophrenic', 'left effusion', 'left greater', 'left kidney', 'left lower', 'left lung', 'left pleural', 'left retrocardiac', 'left subclavian', 'left upper', 'lesion', 'lesions', 'lesions identified', 'less', 'level', 'likely', 'likely due', 'likely representing', 'limited', 'limits', 'line', 'line placement', 'linear', 'lines', 'lingula', 'liver', 'liver spleen', 'lll', 'lobe', 'lobe atelectasis', 'lobe consolidation', 'lobe opacity', 'lobe pneumonia', 'lobe right', 'lobes', 'located', 'location', 'location us', 'location usly', 'loculated', 'loops', 'loss', 'low', 'lower', 'lower lobe', 'lower lobes', 'lower lung', 'lung', 'lung apices', 'lung base', 'lung bases', 'lungs', 'lymph', 'lymph node', 'lymph nodes', 'lymphadenopathy', 'lytic', 'lytic blastic', 'lytic sclerotic', 'made', 'made prior', 'main', 'main pulmonary', 'male', 'malignancy', 'marked', 'mass', 'may', 'may represent', 'mdct', 'measures', 'measuring', 'measuring mm', 'median', 'median sternotomy', 'mediastinal', 'mediastinal contours', 'mediastinal hilar', 'mediastinal lymph', 'mediastinum', 'mid', 'middle', 'middle lobe', 'mild', 'mildly', 'minimal', 'mitral', 'mitral valve', 'mm', 'moderate', 'motion', 'multidetector', 'multifocal', 'multifocal pneumonia', 'multiplanar', 'multiplanar reformatted', 'multiple', 'name', 'name stitle', 'name un', 'nasogastric', 'nasogastric tube', 'new', 'ng', 'ng tube', 'node', 'nodes', 'nodular', 'nodule', 'nodules', 'non', 'non ionic', 'none', 'nonionic', 'normal', 'normal caliber', 'normal limits', 'normal size', 'note', 'note made', 'noted', 'obstruction', 'obtained', 'obtained chest', 'one', 'opacification', 'opacities', 'opacity', 'opacity left', 'opacity right', 'optiray', 'optiray amt', 'oral', 'oral contrast', 'osseous', 'osseous structures', 'otherwise', 'overall', 'overlying', 'pacemaker', 'pain', 'pancreas', 'paratracheal', 'parenchyma', 'parenchymal', 'partially', 'particularly', 'patchy', 'patchy opacities', 'patent', 'pathologically', 'pathologically enlarged', 'patient', 'patient status', 'pattern', 'pe', 'pe contraindications', 'pelvic', 'pelvis', 'pelvis contrast', 'performed', 'performed without', 'pericardial', 'pericardial effusion', 'perihilar', 'peripheral', 'persistent', 'pfi', 'physician', 'physician initial', 'picc', 'picc line', 'place', 'placement', 'placement final', 'please', 'please assess', 'please eval', 'please evaluate', 'pleural', 'pleural effusion', 'pleural effusions', 'pleural thickening', 'pna', 'pneumonia', 'pneumonia final', 'pneumonia underlying', 'pneumothorax', 'pneumothorax identified', 'portion', 'portions', 'position', 'possible', 'possibly', 'post', 'posterior', 'posteriorly', 'pre', 'pre number', 'predominantly', 'presence', 'present', 'prevascular', 'prior', 'prior chest', 'prior study', 'probable', 'probably', 'process', 'progression', 'prominence', 'prominent', 'provisional', 'provisional findings', 'proximal', 'ptx', 'pulm', 'pulmonary', 'pulmonary arterial', 'pulmonary arteries', 'pulmonary artery', 'pulmonary edema', 'pulmonary embolism', 'pulmonary vascular', 'pulmonary vascularity', 'pulmonary vasculature', 'question', 'r', 'radiograph', 'radiograph chest', 'radiographs', 'radiology ct', 'reactive', 'read', 'reason assess', 'reason eval', 'reason evaluate', 'reason please', 'recent', 'recommended', 'recons', 'recons clip', 'recons ct', 'redistribution', 'reflect', 'reformations', 'reformats', 'reformatted', 'reformatted images', 'region', 'regions', 'related', 'remain', 'remains', 'removed', 'renal', 'renal failure', 'replacement', 'report chest', 'report clinical', 'report cont', 'report ct', 'report history', 'report indication', 'report indications', 'represent', 'representing', 'represents', 'residual', 'resolution', 'resp', 'resp distress', 'respiratory', 'respiratory distress', 'respiratory failure', 'retrocardiac', 'retroperitoneal', 'reviewed', 'rib', 'rib fractures', 'right', 'right atrium', 'right base', 'right greater', 'right hilar', 'right ij', 'right internal', 'right left', 'right lower', 'right lung', 'right middle', 'right pleural', 'right sided', 'right upper', 'rll', 'rule', 'sagittal', 'satisfactory', 'satisfactory position', 'scan', 'scarring', 'scattered', 'sclerotic', 'secondary', 'secretions', 'seen', 'seen left', 'seen right', 'seen within', 'segment', 'segmental', 'septal', 'series', 'setting', 'several', 'severe', 'severe emphysema', 'short', 'shortness', 'shortness breath', 'show', 'side', 'sided', 'sided pleural', 'significant', 'significant change', 'significantly', 'significantly changed', 'silhouette', 'similar', 'simple', 'since', 'since prior', 'single', 'single view', 'size', 'size normal', 'slight', 'slightly', 'small', 'small amount', 'small bilateral', 'small bowel', 'small left', 'small pleural', 'small right', 'smaller', 'sob', 'sob reason', 'soft', 'soft tissue', 'somewhat', 'space', 'spine', 'spleen', 'stable', 'stable appearance', 'status', 'status post', 'sternotomy', 'stitle', 'stomach', 'structures', 'structures unremarkable', 'studies', 'study', 'subcarinal', 'subclavian', 'subcutaneous', 'subdiaphragmatic', 'subsegmental', 'suggest', 'suggesting', 'suggestive', 'superimposed', 'superior', 'supine', 'surgical', 'suspicious', 'suspicious lytic', 'svc', 'tailored', 'technique', 'technique axial', 'technique contiguous', 'technique mdct', 'terminates', 'terminating', 'thickening', 'thoracic', 'thoracic aorta', 'thoracic inlet', 'thoracic spine', 'though', 'throughout', 'thyroid', 'time', 'tiny', 'tip', 'tissue', 'tissues', 'today', 'trace', 'trachea', 'tracheostomy', 'tracheostomy tube', 'tube', 'tube placement', 'tube tip', 'tubes', 'two', 'un', 'unchanged', 'unchanged impression', 'unchanged position', 'unremarkable', 'unremarkable impression', 'upper', 'upper abdomen', 'upper lobe', 'upper lobes', 'upper lung', 'upper zone', 'upright', 'upright chest', 'us', 'us study', 'usly', 'valve', 'valve replacement', 'vascular', 'vascular congestion', 'vascularity', 'vasculature', 'vein', 'venous', 'venous catheter', 'venous line', 'ventricular', 'versus', 'vessels', 'view', 'view chest', 'view contrast', 'view final', 'view underlying', 'views', 'visualized', 'volume', 'vs', 'w', 'w c', 'wall', 'wall thickening', 'well', 'wet', 'wet read', 'windows', 'wires', 'within', 'within left', 'within normal', 'within right', 'without', 'without contrast', 'without evidence', 'without intravenous', 'without iv', 'worse', 'worsening', 'would', 'x', 'x cm', 'yo', 'zone', 'zone redistribution']\n",
      "\n"
     ]
    }
   ],
   "source": [
    "#cv = CountVectorizer(lowercase=True, max_df=0.90, max_features=None, min_df=0.033,\n",
    "#                     ngram_range=(1, 2), preprocessor=None, stop_words=cachedStopWords,\n",
    "#                     strip_accents=None, tokenizer=tokenize, vocabulary=None)\n",
    "cv = TfidfVectorizer(lowercase=True, max_df=0.90, max_features=None, min_df=0.033,\n",
    "                     ngram_range=(1, 2), preprocessor=None, stop_words=cachedStopWords,\n",
    "                     strip_accents=None, tokenizer=tokenize, vocabulary=None)\n",
    "X = cv.fit_transform(corpusList)\n",
    "print(X.shape)\n",
    "print()\n",
    "lexicon = cv.get_feature_names()\n",
    "print (lexicon)\n",
    "print()"
   ]
  },
  {
   "cell_type": "markdown",
   "metadata": {},
   "source": [
    "### Construct our Classes\n",
    "\n",
    "#### We need to assign a class for each classification. We typically assign numeric values to classes."
   ]
  },
  {
   "cell_type": "code",
   "execution_count": 6,
   "metadata": {},
   "outputs": [],
   "source": [
    "corpus['label'] = corpus['label'].map({'COPD': 0, 'CHF': 0, 'PNA': 1})\n",
    "corpus.head()\n",
    "Y = corpus['label'].values"
   ]
  },
  {
   "cell_type": "markdown",
   "metadata": {},
   "source": [
    "### Let's Run It!\n",
    "\n",
    "#### We will generate models and evaluate the modes using bootstrapping."
   ]
  },
  {
   "cell_type": "code",
   "execution_count": 7,
   "metadata": {},
   "outputs": [
    {
     "name": "stdout",
     "output_type": "stream",
     "text": [
      "model  0 : KNN K = 1\n",
      "   Fold 1 accuracy: 84.67 %\n",
      "   Fold 2 accuracy: 86.67 %\n",
      "   Fold 3 accuracy: 80.00 %\n",
      "   Fold 4 accuracy: 84.67 %\n",
      "   Fold 5 accuracy: 82.00 %\n",
      "   Fold 6 accuracy: 86.67 %\n",
      "   Fold 7 accuracy: 84.67 %\n",
      "   Fold 8 accuracy: 80.67 %\n",
      "   Fold 9 accuracy: 82.67 %\n",
      "   Fold 10 accuracy: 80.67 %\n",
      "     Overall test accuracy: 83.33 %\n",
      "     Overall training accuracy: 100.00 %\n",
      "model  1 : KNN K = 3\n",
      "   Fold 1 accuracy: 84.00 %\n",
      "   Fold 2 accuracy: 86.00 %\n",
      "   Fold 3 accuracy: 82.67 %\n",
      "   Fold 4 accuracy: 82.67 %\n",
      "   Fold 5 accuracy: 88.67 %\n",
      "   Fold 6 accuracy: 89.33 %\n",
      "   Fold 7 accuracy: 78.67 %\n",
      "   Fold 8 accuracy: 84.00 %\n",
      "   Fold 9 accuracy: 86.00 %\n",
      "   Fold 10 accuracy: 84.67 %\n",
      "     Overall test accuracy: 84.67 %\n",
      "     Overall training accuracy: 92.87 %\n",
      "model  2 : KNN K = 5\n",
      "   Fold 1 accuracy: 90.00 %\n",
      "   Fold 2 accuracy: 84.00 %\n",
      "   Fold 3 accuracy: 89.33 %\n",
      "   Fold 4 accuracy: 84.67 %\n",
      "   Fold 5 accuracy: 84.00 %\n",
      "   Fold 6 accuracy: 85.33 %\n",
      "   Fold 7 accuracy: 88.67 %\n",
      "   Fold 8 accuracy: 85.33 %\n",
      "   Fold 9 accuracy: 84.00 %\n",
      "   Fold 10 accuracy: 88.00 %\n",
      "     Overall test accuracy: 86.33 %\n",
      "     Overall training accuracy: 91.80 %\n",
      "model  3 : KNN K = 10\n",
      "   Fold 1 accuracy: 86.00 %\n",
      "   Fold 2 accuracy: 82.67 %\n",
      "   Fold 3 accuracy: 85.33 %\n",
      "   Fold 4 accuracy: 84.00 %\n",
      "   Fold 5 accuracy: 90.67 %\n",
      "   Fold 6 accuracy: 84.00 %\n",
      "   Fold 7 accuracy: 84.67 %\n",
      "   Fold 8 accuracy: 84.67 %\n",
      "   Fold 9 accuracy: 84.00 %\n",
      "   Fold 10 accuracy: 90.67 %\n",
      "     Overall test accuracy: 85.67 %\n",
      "     Overall training accuracy: 87.93 %\n",
      "model  4 : KNN K = 15\n",
      "   Fold 1 accuracy: 89.33 %\n",
      "   Fold 2 accuracy: 87.33 %\n",
      "   Fold 3 accuracy: 80.00 %\n",
      "   Fold 4 accuracy: 84.00 %\n",
      "   Fold 5 accuracy: 88.67 %\n",
      "   Fold 6 accuracy: 88.00 %\n",
      "   Fold 7 accuracy: 87.33 %\n",
      "   Fold 8 accuracy: 86.00 %\n",
      "   Fold 9 accuracy: 82.00 %\n",
      "   Fold 10 accuracy: 83.33 %\n",
      "     Overall test accuracy: 85.60 %\n",
      "     Overall training accuracy: 87.87 %\n",
      "model  5 : KNN K = 20\n",
      "   Fold 1 accuracy: 82.67 %\n",
      "   Fold 2 accuracy: 87.33 %\n",
      "   Fold 3 accuracy: 84.67 %\n",
      "   Fold 4 accuracy: 86.00 %\n",
      "   Fold 5 accuracy: 86.00 %\n",
      "   Fold 6 accuracy: 82.67 %\n",
      "   Fold 7 accuracy: 88.00 %\n",
      "   Fold 8 accuracy: 88.67 %\n",
      "   Fold 9 accuracy: 85.33 %\n",
      "   Fold 10 accuracy: 82.00 %\n",
      "     Overall test accuracy: 85.33 %\n",
      "     Overall training accuracy: 86.80 %\n"
     ]
    }
   ],
   "source": [
    "results = []\n",
    "cont = []\n",
    "kf = KFold(n_splits=10, shuffle=True)\n",
    "K = [1, 3, 5, 10, 15, 20]\n",
    "for k in range(len(K)):\n",
    "    fold = 1\n",
    "    truth = []\n",
    "    knn_prediction = []\n",
    "    print(\"model \", k, \": KNN K = \" + str(K[k]))\n",
    "    test_count = 0\n",
    "    knn = KNeighborsClassifier(n_neighbors=K[k], algorithm='auto', metric='minkowski', p=2, n_jobs=-1)\n",
    "    for train_idx, test_idx in kf.split(X):\n",
    "        trainX = X[train_idx]\n",
    "        trainY = Y[train_idx]\n",
    "        testX = X[test_idx]\n",
    "        testY = Y[test_idx]\n",
    "        truth.append(testY)\n",
    "        knn.fit(trainX, trainY)\n",
    "        Y_hat = knn.predict(testX)\n",
    "        knn_prediction.append(Y_hat)\n",
    "        print(\"   Fold %d accuracy: %.2f %%\" % (fold, ((np.sum(Y_hat == testY)/len(testY)) * 100.0)))                        \n",
    "        fold += 1\n",
    "    truth = np.concatenate(truth, axis=0)    \n",
    "    knn_prediction = np.concatenate(knn_prediction, axis=0)\n",
    "    test_results = np.sum(knn_prediction == truth)/len(truth)\n",
    "    print(\"     Overall test accuracy: %.2f %%\" % (test_results * 100))  \n",
    "    knn = knn.fit(X, Y)\n",
    "    Y_hat = knn.predict(X)\n",
    "    train_results = np.sum(Y_hat == Y)/len(Y)\n",
    "    print(\"     Overall training accuracy: %.2f %%\" % (train_results * 100.0))  \n",
    "    results.append([train_results, test_results])   \n",
    "    cont.append([truth, knn_prediction])\n",
    "\n"
   ]
  },
  {
   "cell_type": "code",
   "execution_count": 8,
   "metadata": {},
   "outputs": [
    {
     "data": {
      "image/png": "[encoded data removed]",
      "text/plain": [
       "<Figure size 432x288 with 1 Axes>"
      ]
     },
     "metadata": {
      "needs_background": "light"
     },
     "output_type": "display_data"
    }
   ],
   "source": [
    "tracc = [item[0] for item in results]\n",
    "tstacc = [item[1] for item in results]\n",
    "\n",
    "trainAcc = plt.plot(K, tracc, '-b', label='Training Error')\n",
    "testACC = plt.plot(K, tstacc, '-g', label='Testing Error')\n",
    "plt.title(\"KNN Accuracy versus K Model Parameter\")\n",
    "plt.ylabel(\"Accuracy\")\n",
    "plt.xlabel(\"K\")\n",
    "plt.legend(loc=1)\n",
    "plt.show(block=False)"
   ]
  },
  {
   "cell_type": "markdown",
   "metadata": {},
   "source": [
    "### Contingency Tables\n",
    "\n",
    "#### Let's look at the contingency tables\n",
    "\n",
    "#### 1) Can you calculate the Sensitivity, Specificity, PPV, NPV? "
   ]
  },
  {
   "cell_type": "code",
   "execution_count": 9,
   "metadata": {
    "scrolled": true
   },
   "outputs": [
    {
     "name": "stdout",
     "output_type": "stream",
     "text": [
      "Enter Best Model: 1\n",
      "\n",
      "KNN\n",
      "       Other  PNA  Total\n",
      "Other    902  132   1034\n",
      "PNA       98  368    466\n",
      "Total   1000  500   1500\n",
      "\n"
     ]
    }
   ],
   "source": [
    "model = input(\"Enter Best Model: \")\n",
    "best = cont[int(model)]\n",
    "knn_ct = pd.crosstab(best[1], best[0], margins=True)\n",
    "knn_ct.columns = [\"Other\", \"PNA\", \"Total\"]\n",
    "knn_ct.index = [\"Other\", \"PNA\", \"Total\"]\n",
    "print()\n",
    "print(\"KNN\")\n",
    "print(knn_ct)\n",
    "print()\n"
   ]
  },
  {
   "cell_type": "markdown",
   "metadata": {},
   "source": [
    "### Evaluation Statistics\n",
    "\n",
    "#### We will calculate some test statistics for our classifiers"
   ]
  },
  {
   "cell_type": "code",
   "execution_count": 10,
   "metadata": {},
   "outputs": [
    {
     "name": "stdout",
     "output_type": "stream",
     "text": [
      "KNN: Sensitivity: 0.73600 Specificity: 0.90200 PPV: 0.78970 NPV: 0.87234 Accuracy: 0.84667\n"
     ]
    }
   ],
   "source": [
    "Sens = knn_ct.iloc[1][1]/knn_ct.iloc[2][1]\n",
    "Spec = knn_ct.iloc[0][0]/knn_ct.iloc[2][0]\n",
    "PPV = knn_ct.iloc[1][1]/knn_ct.iloc[1][2]\n",
    "NPV = knn_ct.iloc[0][0]/knn_ct.iloc[0][2]\n",
    "ACC = (knn_ct.iloc[0][0] + knn_ct.iloc[1][1]) / knn_ct.iloc[2][2]\n",
    "print(\"KNN: Sensitivity: %.5f Specificity: %.5f PPV: %.5f NPV: %.5f Accuracy: %.5f\" % (Sens, Spec, PPV, NPV, ACC))                                                                                      "
   ]
  },
  {
   "cell_type": "markdown",
   "metadata": {
    "collapsed": true
   },
   "source": [
    "### ROC Curve\n",
    "\n",
    "#### 1) So which classifier do you think is better?"
   ]
  },
  {
   "cell_type": "code",
   "execution_count": 11,
   "metadata": {},
   "outputs": [
    {
     "data": {
      "image/png": "[encoded data removed]",
      "text/plain": [
       "<Figure size 432x288 with 1 Axes>"
      ]
     },
     "metadata": {
      "needs_background": "light"
     },
     "output_type": "display_data"
    },
    {
     "name": "stdout",
     "output_type": "stream",
     "text": [
      "AUC =  0.819\n"
     ]
    }
   ],
   "source": [
    "knn_fpr, knn_tpr, knn_thresholds = roc_curve(best[0], best[1], pos_label=1)\n",
    "roc_auc = auc(knn_fpr, knn_tpr)\n",
    "plt.figure(1)\n",
    "plt.plot([0, 1], [0, 1], 'k--')\n",
    "plt.plot(knn_fpr, knn_tpr, label='KNN')\n",
    "plt.xlabel('False positive rate (1 - Specificity)')\n",
    "plt.ylabel('True Positive Rate (Sensitivity)')\n",
    "plt.title('ROC curve')\n",
    "plt.legend(loc='best')\n",
    "plt.show()\n",
    "print(\"AUC = \", roc_auc)"
   ]
  },
  {
   "cell_type": "code",
   "execution_count": null,
   "metadata": {},
   "outputs": [],
   "source": []
  },
  {
   "cell_type": "code",
   "execution_count": null,
   "metadata": {},
   "outputs": [],
   "source": []
  }
 ],
 "metadata": {
  "kernelspec": {
   "display_name": "Python 3",
   "language": "python",
   "name": "python3"
  },
  "language_info": {
   "codemirror_mode": {
    "name": "ipython",
    "version": 3
   },
   "file_extension": ".py",
   "mimetype": "text/x-python",
   "name": "python",
   "nbconvert_exporter": "python",
   "pygments_lexer": "ipython3",
   "version": "3.6.7"
  },
  "widgets": {
   "state": {},
   "version": "1.1.1"
  }
 },
 "nbformat": 4,
 "nbformat_minor": 1
}

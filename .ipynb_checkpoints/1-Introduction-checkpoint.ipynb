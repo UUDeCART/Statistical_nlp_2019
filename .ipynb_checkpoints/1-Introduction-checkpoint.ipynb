{
 "cells": [
  {
   "cell_type": "markdown",
   "metadata": {},
   "source": [
    "Deep Learning #4"
   ]
  },
  {
   "cell_type": "markdown",
   "metadata": {},
   "source": [
    "## What is Machine Learning (ML) ?\n",
    "\n",
    "* Finding (and exploiting) patterns in data\n",
    "\n",
    "* Replacing \"<u>humans writing code</u>\" with \"<u>humans providing data</u>\"!\n",
    "    * ML algorithms learns what is desired based on example data\n",
    "    * We try to mimic reasoning\n",
    "\n",
    "\n",
    "* <b>Formal Definition:</b> Given experence E with respect to some defined task T and\n",
    "  some performance measure P, if the performance P on T improves with experience E then\n",
    "  the system is said to have learned.\n",
    "\n",
    "## Classifying Machine Learning\n",
    "\n",
    "#### Classifying Machine Learning Systems\n",
    "* Trained or not trained with supervision\n",
    "    * <mark>Supervised Learning</mark>\n",
    "    * <mark>Unsupervised Learning</mark>\n",
    "    * Semi-supervised Learning\n",
    "    * Reinforcement Learning\n",
    "    * Learning Theory \n",
    "\n",
    "\n",
    "* Static learning versus Dynamic Incremental learning \n",
    "    * <mark>Batch learning</mark>\n",
    "    * Online learning\n",
    "\n",
    "\n",
    "* Comparative Association versus Pattern Detection<br>\n",
    "    * <mark>Instance based learning</mark> (requires measure of simularity)\n",
    "        <img src=\"./images/Instance-Based-Learning.png\" width=\"400px\">\n",
    "    * <mark>Model based learning</mark> (identify classification boundary)\n",
    "        <img src=\"./images/Model-Based-Learning.png\" width=\"400px\"> \n",
    "        \n",
    "        \n",
    "#### Generalization (i.e. regularization) is importamnt to make NLP models performant!!!\n",
    "\n",
    "##### Worth the Read . . . [Overfitting and Undercomputing in ML](./view/Overfitting-and-Undercomputing-in-ML.pdf)\n",
    "\n",
    "#### ML algorithms cannot overcome insufficient training data !!!\n",
    "\n",
    "<img src=\"./images/Lack-of-Training-Data.png\" width=\"400px\"> \n",
    "\n"
   ]
  },
  {
   "cell_type": "markdown",
   "metadata": {},
   "source": [
    "#### Supervised Learning Applied to Text\n",
    "\n",
    "* Learning with a teacher\n",
    "* Input: Feature Space (X)    Output: Labels (Y)\n",
    "* Learners we will explore\n",
    "    * Decision Trees\n",
    "    * Decision Stumps\n",
    "    * Support Vector Machines\n",
    "    * K-Nearest Neighbor\n",
    "    * Random Forests\n",
    "    * Multinomial Nieve Bayes\n",
    "    * Boosting Weak Clasifiers\n",
    "\n",
    "#### Unupervised Learning Applied to Text\n",
    "\n",
    "* Learning without a teacher\n",
    "* Input: Feature Space (X) NO LABELS !!!\n",
    "* Learners we will explore\n",
    "    * K-means Text Clustering\n",
    "    * Multinomial Expectation Maximization Clustering\n",
    "    * Distributional Semantics with Neural Networks\n",
    "    * Dimensionality Reduction\n"
   ]
  },
  {
   "cell_type": "code",
   "execution_count": null,
   "metadata": {
    "collapsed": true
   },
   "outputs": [],
   "source": []
  }
 ],
 "metadata": {
  "kernelspec": {
   "display_name": "Python 3",
   "language": "python",
   "name": "python3"
  },
  "language_info": {
   "codemirror_mode": {
    "name": "ipython",
    "version": 3
   },
   "file_extension": ".py",
   "mimetype": "text/x-python",
   "name": "python",
   "nbconvert_exporter": "python",
   "pygments_lexer": "ipython3",
   "version": "3.7.3"
  }
 },
 "nbformat": 4,
 "nbformat_minor": 2
}

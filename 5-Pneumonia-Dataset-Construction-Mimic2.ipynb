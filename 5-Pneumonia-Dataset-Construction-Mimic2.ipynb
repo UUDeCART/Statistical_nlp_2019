{
 "cells": [
  {
   "cell_type": "markdown",
   "metadata": {},
   "source": [
    "# Extracting MIMIC Data\n",
    "\n",
    "## Environment Setup"
   ]
  },
  {
   "cell_type": "code",
   "execution_count": 16,
   "metadata": {},
   "outputs": [],
   "source": [
    "import time\n",
    "import pymysql\n",
    "import getpass\n",
    "import pickle as pkl\n",
    "import pandas as pd\n",
    "from _collections import OrderedDict"
   ]
  },
  {
   "cell_type": "markdown",
   "metadata": {},
   "source": [
    "## Query List\n",
    "\n",
    "#### Construct a list of queries that we will want to run."
   ]
  },
  {
   "cell_type": "code",
   "execution_count": 24,
   "metadata": {},
   "outputs": [],
   "source": [
    "queryList = OrderedDict([('PNA-POS', './queries/PNA-POS-Mimic2.sql'), ('PNA-NEG','./queries/PNA-NEG-Mimic2.sql')])"
   ]
  },
  {
   "cell_type": "code",
   "execution_count": 6,
   "metadata": {},
   "outputs": [],
   "source": [
    "queryList = OrderedDict([('PNA-POS', './queries/PNA-POS-Mimic2-local.sql'), ('PNA-NEG','./queries/PNA-NEG-Mimic2-local.sql')])"
   ]
  },
  {
   "cell_type": "markdown",
   "metadata": {},
   "source": [
    "## MIMIC Database Connection\n",
    "\n",
    "#### Make a connection to the MIMIC database and get a cursor for record processing."
   ]
  },
  {
   "cell_type": "code",
   "execution_count": 22,
   "metadata": {},
   "outputs": [
    {
     "name": "stdout",
     "output_type": "stream",
     "text": [
      "Enter MySQL passwd for jovyan········\n"
     ]
    }
   ],
   "source": [
    "conn = pymysql.connect(host=\"mysql\", \n",
    "                       port = 3306, user=\"jovyan\", \n",
    "                       passwd=getpass.getpass(\"Enter MySQL passwd for jovyan\"), db='mimic2')\n",
    "cur = conn.cursor()"
   ]
  },
  {
   "cell_type": "code",
   "execution_count": 7,
   "metadata": {},
   "outputs": [
    {
     "name": "stdout",
     "output_type": "stream",
     "text": [
      "Enter MySQL passwd ········\n"
     ]
    }
   ],
   "source": [
    "conn = pymysql.connect(host=\"localhost\", \n",
    "                       port = 3306, user=\"jferraro\", \n",
    "                       passwd=getpass.getpass(\"Enter MySQL passwd \"), db='mimic')\n",
    "cur = conn.cursor()"
   ]
  },
  {
   "cell_type": "markdown",
   "metadata": {},
   "source": [
    "## Retrieve our Data\n",
    "\n",
    "#### For each query we will retrieve the data and build an ordered dictionary containing our data. "
   ]
  },
  {
   "cell_type": "code",
   "execution_count": 25,
   "metadata": {},
   "outputs": [
    {
     "name": "stdout",
     "output_type": "stream",
     "text": [
      "execute query: PNA-POS\n",
      "CPU times: user 57.3 ms, sys: 24.6 ms, total: 81.9 ms\n",
      "Wall time: 903 ms\n",
      "execute query: PNA-NEG\n",
      "CPU times: user 549 ms, sys: 253 ms, total: 802 ms\n",
      "Wall time: 831 ms\n",
      "                                                text    label\n",
      "0  \\n\\n\\n     DATE: [**2996-12-2**] 10:25 AM\\n   ...  PNA-POS\n",
      "1  \\n\\n\\n     DATE: [**2850-2-14**] 10:22 PM\\n   ...  PNA-POS\n",
      "2  \\n\\n\\n     DATE: [**2631-10-3**] 9:52 AM\\n    ...  PNA-POS\n",
      "3  \\n\\n\\n     DATE: [**2584-11-21**] 11:17 AM\\n  ...  PNA-POS\n",
      "4  \\n\\n\\n     DATE: [**2584-11-21**] 11:17 AM\\n  ...  PNA-POS\n"
     ]
    }
   ],
   "source": [
    "queries = []\n",
    "\n",
    "for key in queryList:\n",
    "    count = 1\n",
    "    file = open(queryList[key], 'r')\n",
    "    query = file.read()\n",
    "    print(\"execute query: \" + key)\n",
    "    %time cur.execute(query)\n",
    "    queries.append(query)\n",
    "\n",
    "corpus = pd.concat([pd.read_sql_query(q, conn) for q in queries])\n",
    "print(corpus.head())\n",
    "\n",
    "conn.close()"
   ]
  },
  {
   "cell_type": "markdown",
   "metadata": {},
   "source": [
    "## Safestore the Data\n",
    "\n",
    "#### We will serialize the ordered dictionary structure out to disk. This way we will not have to rebuild our data every time we want to tray a new model. It is a convenience thing...."
   ]
  },
  {
   "cell_type": "code",
   "execution_count": 27,
   "metadata": {},
   "outputs": [
    {
     "name": "stdout",
     "output_type": "stream",
     "text": [
      "Done!\n"
     ]
    }
   ],
   "source": [
    "file = open('pna-corpus.pkl','wb')\n",
    "pkl.dump(corpus, file)\n",
    "file.close()\n",
    "print(\"Done!\")"
   ]
  },
  {
   "cell_type": "code",
   "execution_count": 7,
   "metadata": {},
   "outputs": [
    {
     "data": {
      "text/plain": [
       "0       \\n\\n\\n     DATE: [**2996-12-2**] 10:25 AM\\n   ...\n",
       "1       \\n\\n\\n     DATE: [**2850-2-14**] 10:22 PM\\n   ...\n",
       "2       \\n\\n\\n     DATE: [**2631-10-3**] 9:52 AM\\n    ...\n",
       "3       \\n\\n\\n     DATE: [**2584-11-21**] 11:17 AM\\n  ...\n",
       "4       \\n\\n\\n     DATE: [**2584-11-21**] 11:17 AM\\n  ...\n",
       "5       \\n\\n\\n     DATE: [**2584-11-21**] 11:17 AM\\n  ...\n",
       "6       \\n\\n\\n     DATE: [**2996-12-3**] 4:26 PM\\n    ...\n",
       "7       \\n\\n\\n     DATE: [**2996-12-3**] 4:26 PM\\n    ...\n",
       "8       \\n\\n\\n     DATE: [**3327-5-12**] 2:57 AM\\n    ...\n",
       "9       \\n\\n\\n     DATE: [**3327-5-12**] 2:57 AM\\n    ...\n",
       "10      \\n\\n\\n     DATE: [**3191-10-25**] 8:05 AM\\n   ...\n",
       "11      \\n\\n\\n     DATE: [**3325-2-25**] 11:13 AM\\n   ...\n",
       "12      \\n\\n\\n     DATE: [**3387-7-21**] 8:30 PM\\n    ...\n",
       "13      \\n\\n\\n     DATE: [**3387-7-21**] 8:30 PM\\n    ...\n",
       "14      \\n\\n\\n     DATE: [**3387-7-21**] 8:30 PM\\n    ...\n",
       "15      \\n\\n\\n     DATE: [**3117-9-2**] 12:46 AM\\n    ...\n",
       "16      \\n\\n\\n     DATE: [**2693-4-17**] 5:04 PM\\n    ...\n",
       "17      \\n\\n\\n     DATE: [**2693-4-17**] 5:04 PM\\n    ...\n",
       "18      \\n\\n\\n     DATE: [**2693-4-17**] 5:04 PM\\n    ...\n",
       "19      \\n\\n\\n     DATE: [**3414-4-2**] 3:10 PM\\n     ...\n",
       "20      \\n\\n\\n     DATE: [**3414-4-2**] 3:10 PM\\n     ...\n",
       "21      \\n\\n\\n     DATE: [**2533-5-20**] 5:05 PM\\n    ...\n",
       "22      \\n\\n\\n     DATE: [**3227-5-6**] 3:53 PM\\n     ...\n",
       "23      \\n\\n\\n     DATE: [**3133-2-3**] 6:18 AM\\n     ...\n",
       "24      \\n\\n\\n     DATE: [**2824-10-17**] 5:02 PM\\n   ...\n",
       "25      \\n\\n\\n     DATE: [**2824-10-17**] 5:02 PM\\n   ...\n",
       "26      \\n\\n\\n     DATE: [**3325-2-22**] 10:09 PM\\n   ...\n",
       "27      \\n\\n\\n     DATE: [**3325-3-8**] 2:41 PM\\n     ...\n",
       "28      \\n\\n\\n     DATE: [**3206-4-20**] 9:51 AM\\n    ...\n",
       "29      \\n\\n\\n     DATE: [**3117-9-13**] 11:16 AM\\n   ...\n",
       "                              ...                        \n",
       "9970    \\n\\n\\n     DATE: [**3259-8-17**] 2:32 PM\\n    ...\n",
       "9971    \\n\\n\\n     DATE: [**3259-8-20**] 8:59 AM\\n    ...\n",
       "9972    \\n\\n\\n     DATE: [**3259-8-21**] 9:46 AM\\n    ...\n",
       "9973    \\n\\n\\n     DATE: [**3259-8-23**] 9:24 AM\\n    ...\n",
       "9974    \\n\\n\\n     DATE: [**3259-8-23**] 3:43 PM\\n    ...\n",
       "9975    \\n\\n\\n     DATE: [**3259-8-23**] 3:43 PM\\n    ...\n",
       "9976    \\n\\n\\n     DATE: [**3259-8-23**] 8:06 PM\\n    ...\n",
       "9977    \\n\\n\\n     DATE: [**3259-8-24**] 3:30 PM\\n    ...\n",
       "9978    \\n\\n\\n     DATE: [**3259-8-25**] 3:32 PM\\n    ...\n",
       "9979    \\n\\n\\n     DATE: [**3259-8-25**] 3:32 PM\\n    ...\n",
       "9980    \\n\\n\\n     DATE: [**3259-8-26**] 9:47 AM\\n    ...\n",
       "9981    \\n\\n\\n     DATE: [**3259-8-27**] 4:31 PM\\n    ...\n",
       "9982    \\n\\n\\n     DATE: [**3259-8-29**] 10:43 AM\\n   ...\n",
       "9983    \\n\\n\\n     DATE: [**3259-8-29**] 3:59 PM\\n    ...\n",
       "9984    \\n\\n\\n     DATE: [**3259-8-30**] 11:45 AM\\n   ...\n",
       "9985    \\n\\n\\n     DATE: [**3259-9-2**] 2:59 PM\\n     ...\n",
       "9986    \\n\\n\\n     DATE: [**3149-12-5**] 7:15 PM\\n    ...\n",
       "9987    \\n\\n\\n     DATE: [**3149-12-5**] 7:15 PM\\n    ...\n",
       "9988    \\n\\n\\n     DATE: [**3149-12-5**] 7:15 PM\\n    ...\n",
       "9989    \\n\\n\\n     DATE: [**3149-12-5**] 7:15 PM\\n    ...\n",
       "9990    \\n\\n\\n     DATE: [**3149-12-5**] 7:15 PM\\n    ...\n",
       "9991    \\n\\n\\n     DATE: [**3149-12-5**] 7:14 PM\\n    ...\n",
       "9992    \\n\\n\\n     DATE: [**3149-12-5**] 7:14 PM\\n    ...\n",
       "9993    \\n\\n\\n     DATE: [**3149-12-5**] 7:14 PM\\n    ...\n",
       "9994    \\n\\n\\n     DATE: [**3149-12-5**] 7:14 PM\\n    ...\n",
       "9995    \\n\\n\\n     DATE: [**3149-12-5**] 10:50 PM\\n   ...\n",
       "9996    \\n\\n\\n     DATE: [**3149-12-5**] 7:47 PM\\n    ...\n",
       "9997    \\n\\n\\n     DATE: [**3149-12-5**] 7:47 PM\\n    ...\n",
       "9998    \\n\\n\\n     DATE: [**3149-12-5**] 7:47 PM\\n    ...\n",
       "9999    \\n\\n\\n     DATE: [**3149-12-5**] 6:51 PM\\n    ...\n",
       "Name: text, Length: 11108, dtype: object"
      ]
     },
     "execution_count": 7,
     "metadata": {},
     "output_type": "execute_result"
    }
   ],
   "source": []
  },
  {
   "cell_type": "code",
   "execution_count": 14,
   "metadata": {},
   "outputs": [
    {
     "name": "stdout",
     "output_type": "stream",
     "text": [
      "0    \\n\\n\\n     DATE: [**2996-12-2**] 10:25 AM\\n   ...\n",
      "0    \\n\\n\\n     DATE: [**2644-1-17**] 10:53 AM\\n   ...\n",
      "Name: text, dtype: object\n"
     ]
    }
   ],
   "source": [
    "print(corpus['text'][0])"
   ]
  },
  {
   "cell_type": "code",
   "execution_count": null,
   "metadata": {},
   "outputs": [],
   "source": []
  }
 ],
 "metadata": {
  "kernelspec": {
   "display_name": "Python 3",
   "language": "python",
   "name": "python3"
  },
  "language_info": {
   "codemirror_mode": {
    "name": "ipython",
    "version": 3
   },
   "file_extension": ".py",
   "mimetype": "text/x-python",
   "name": "python",
   "nbconvert_exporter": "python",
   "pygments_lexer": "ipython3",
   "version": "3.7.3"
  }
 },
 "nbformat": 4,
 "nbformat_minor": 2
}

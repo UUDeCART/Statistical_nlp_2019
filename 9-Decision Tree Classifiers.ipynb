{
 "cells": [
  {
   "cell_type": "markdown",
   "metadata": {},
   "source": [
    "## Tree Classifiers\n",
    "\n",
    "### Decision Tree Construction Algorithm\n",
    "\n",
    "#### We build a tree top-down in a greedy manner.\n",
    "\n",
    "    function BuildDT(X, Y, threshold)\n",
    "        if (all the labels (Y) are the same\n",
    "            assign as leaf node with label set to class of Y\n",
    "            return tree\n",
    "        elseif (threshold is the minimum number of examples to keep)\n",
    "            assign as leaf node with label set to most commin class\n",
    "            return tree\n",
    "        else\n",
    "            let f be the feature that is best to split on\n",
    "            let leftChildBranch = BuildDT(data (X) where f=True, labels (Y) with f=True)\n",
    "            let rightChildBranch = BuildDT(data (X) where f=False, labels (Y) with f=False)\n",
    "            return tree\n",
    "            \n",
    "### Determining best split feature by evaluating node purity\n",
    "\n",
    "<img style=\"float: l;\" src=\"./images/Purity.png\">\n",
    " \n",
    "$Entropy(t) = - \\displaystyle \\sum_{i=0}^{c-1} p(\\space i \\space | \\space t \\space) \\space log_2 \\space p(\\space i \\space | \\space t \\space) \\space \\space \\space \\space \\space \\space \\space \\space \\space \\space Gini(t) = 1 - \\displaystyle \\sum_{i=0}^{c-1} [p(\\space i \\space | \\space t \\space)]^2 \\space \\space \\space \\space \\space \\space \\space \\space \\space \\space Classification \\space error(t) = 1 - \\max_i [p(\\space i \\space | \\space t \\space)]$\n",
    "\n",
    "#### 1) Determine which feature is better to split on ?\n",
    "<img style=\"float: left;\" src=\"./images/Gini.png\">  $ A.N1 = 1 - (4/7)^2 + (3/7)^2 = 0.4898 \\space \\space \\space \\space \\space \\space \\space \\space \\space \\space \\space \\space \\space \\space \\space \\space \\space \\space \\space \\space \\space \\space \\space \\space \\space \\space \\space \\space \\space \\space \\space \\space \\space \\space \\space \\space \\space \\space \\space \\space \\space \\space$\n",
    "                                           $ A.N2 = 1 - (2/5)^2 + (3/5)^2 = 0.4800 \\space \\space \\space \\space \\space \\space \\space \\space \\space \\space \\space \\space \\space \\space \\space \\space \\space \\space \\space \\space \\space \\space \\space \\space \\space \\space \\space \\space \\space \\space \\space \\space \\space \\space \\space \\space \\space \\space \\space \\space \\space \\space$\n",
    "                                           $A = (7/12) x 0.4898 + (5/12) X 0.4800 = 0.486$ \n"
   ]
  },
  {
   "cell_type": "markdown",
   "metadata": {},
   "source": [
    "                                           \n",
    "### Environment Setup"
   ]
  },
  {
   "cell_type": "code",
   "execution_count": 38,
   "metadata": {},
   "outputs": [],
   "source": [
    "import re\n",
    "import nltk\n",
    "import numpy as np\n",
    "import pandas as pd\n",
    "import pickle as pkl\n",
    "from sklearn.feature_extraction.text import CountVectorizer\n",
    "from sklearn.feature_extraction.text import TfidfVectorizer\n",
    "from sklearn.tree import DecisionTreeClassifier\n",
    "from sklearn.model_selection import KFold\n",
    "from sklearn.metrics import roc_curve, auc\n",
    "from nltk.corpus import stopwords\n",
    "%matplotlib inline \n",
    "import matplotlib.pyplot as plt"
   ]
  },
  {
   "cell_type": "markdown",
   "metadata": {},
   "source": [
    "### Syntatic NLP Processing\n",
    "\n",
    "#### We will define some Python functions that will perform some syntatic work on our corpus. "
   ]
  },
  {
   "cell_type": "code",
   "execution_count": 39,
   "metadata": {},
   "outputs": [
    {
     "name": "stdout",
     "output_type": "stream",
     "text": [
      "['i', 'me', 'my', 'myself', 'we', 'our', 'ours', 'ourselves', 'you', \"you're\", \"you've\", \"you'll\", \"you'd\", 'your', 'yours', 'yourself', 'yourselves', 'he', 'him', 'his', 'himself', 'she', \"she's\", 'her', 'hers', 'herself', 'it', \"it's\", 'its', 'itself', 'they', 'them', 'their', 'theirs', 'themselves', 'what', 'which', 'who', 'whom', 'this', 'that', \"that'll\", 'these', 'those', 'am', 'is', 'are', 'was', 'were', 'be', 'been', 'being', 'have', 'has', 'had', 'having', 'do', 'does', 'did', 'doing', 'a', 'an', 'the', 'and', 'but', 'if', 'or', 'because', 'as', 'until', 'while', 'of', 'at', 'by', 'for', 'with', 'about', 'against', 'between', 'into', 'through', 'during', 'before', 'after', 'above', 'below', 'to', 'from', 'up', 'down', 'in', 'out', 'on', 'off', 'over', 'under', 'again', 'further', 'then', 'once', 'here', 'there', 'when', 'where', 'why', 'how', 'all', 'any', 'both', 'each', 'few', 'more', 'most', 'other', 'some', 'such', 'no', 'nor', 'not', 'only', 'own', 'same', 'so', 'than', 'too', 'very', 's', 't', 'can', 'will', 'just', 'don', \"don't\", 'should', \"should've\", 'now', 'd', 'll', 'm', 'o', 're', 've', 'y', 'ain', 'aren', \"aren't\", 'couldn', \"couldn't\", 'didn', \"didn't\", 'doesn', \"doesn't\", 'hadn', \"hadn't\", 'hasn', \"hasn't\", 'haven', \"haven't\", 'isn', \"isn't\", 'ma', 'mightn', \"mightn't\", 'mustn', \"mustn't\", 'needn', \"needn't\", 'shan', \"shan't\", 'shouldn', \"shouldn't\", 'wasn', \"wasn't\", 'weren', \"weren't\", 'won', \"won't\", 'wouldn', \"wouldn't\", 'year', 'old', 'man', 'woman', 'ap', 'am', 'pm', 'portable', 'pa', 'lat', 'admitting', 'diagnosis', 'lateral']\n"
     ]
    }
   ],
   "source": [
    "def tokenize(text):\n",
    "    tokens = [word for sent in nltk.sent_tokenize(text) for word in nltk.word_tokenize(sent)]\n",
    "    filtered_tokens = [ token for token in tokens if re.search('(^[a-zA-Z]+$)', token) ]\n",
    "    return filtered_tokens\n",
    "\n",
    "cachedStopWords = stopwords.words(\"english\")\n",
    "noisywords = ['year', 'old', 'man', 'woman', 'ap', 'am', 'pm', 'portable', 'pa', 'lat', 'admitting', 'diagnosis', 'lateral']\n",
    "cachedStopWords.extend(noisywords)\n",
    "print(cachedStopWords)"
   ]
  },
  {
   "cell_type": "markdown",
   "metadata": {},
   "source": [
    "### Retrieving our Corpus\n",
    "\n",
    "#### Let's pull in our corpus that we had serialized out to disk.  "
   ]
  },
  {
   "cell_type": "code",
   "execution_count": 40,
   "metadata": {},
   "outputs": [
    {
     "data": {
      "text/html": [
       "<div>\n",
       "<style scoped>\n",
       "    .dataframe tbody tr th:only-of-type {\n",
       "        vertical-align: middle;\n",
       "    }\n",
       "\n",
       "    .dataframe tbody tr th {\n",
       "        vertical-align: top;\n",
       "    }\n",
       "\n",
       "    .dataframe thead th {\n",
       "        text-align: right;\n",
       "    }\n",
       "</style>\n",
       "<table border=\"1\" class=\"dataframe\">\n",
       "  <thead>\n",
       "    <tr style=\"text-align: right;\">\n",
       "      <th></th>\n",
       "      <th>text</th>\n",
       "      <th>label</th>\n",
       "    </tr>\n",
       "  </thead>\n",
       "  <tbody>\n",
       "    <tr>\n",
       "      <th>0</th>\n",
       "      <td>[**2996-12-2**] 10:25 AM\\n CT CHEST W/O CONTRA...</td>\n",
       "      <td>PNA</td>\n",
       "    </tr>\n",
       "    <tr>\n",
       "      <th>1</th>\n",
       "      <td>[**3201-9-21**] 4:50 PM\\n CT CHEST W/CONTRAST ...</td>\n",
       "      <td>PNA</td>\n",
       "    </tr>\n",
       "    <tr>\n",
       "      <th>2</th>\n",
       "      <td>[**3299-6-23**] 5:06 PM\\n CT CHEST W/CONTRAST ...</td>\n",
       "      <td>PNA</td>\n",
       "    </tr>\n",
       "    <tr>\n",
       "      <th>3</th>\n",
       "      <td>[**3186-6-14**] 2:54 PM\\n CT CHEST W/CONTRAST ...</td>\n",
       "      <td>PNA</td>\n",
       "    </tr>\n",
       "    <tr>\n",
       "      <th>4</th>\n",
       "      <td>[**2500-1-17**] 9:41 PM\\n CT CHEST W/O CONTRAS...</td>\n",
       "      <td>PNA</td>\n",
       "    </tr>\n",
       "  </tbody>\n",
       "</table>\n",
       "</div>"
      ],
      "text/plain": [
       "                                                text label\n",
       "0  [**2996-12-2**] 10:25 AM\\n CT CHEST W/O CONTRA...   PNA\n",
       "1  [**3201-9-21**] 4:50 PM\\n CT CHEST W/CONTRAST ...   PNA\n",
       "2  [**3299-6-23**] 5:06 PM\\n CT CHEST W/CONTRAST ...   PNA\n",
       "3  [**3186-6-14**] 2:54 PM\\n CT CHEST W/CONTRAST ...   PNA\n",
       "4  [**2500-1-17**] 9:41 PM\\n CT CHEST W/O CONTRAS...   PNA"
      ]
     },
     "execution_count": 40,
     "metadata": {},
     "output_type": "execute_result"
    }
   ],
   "source": [
    "file = open('differential-corpus.pkl','rb')\n",
    "corpus = pkl.load(file)\n",
    "file.close()\n",
    "corpusList = list(corpus['text'].tolist())\n",
    "labels = list(corpus['label'].tolist())\n",
    "corpus.head()"
   ]
  },
  {
   "cell_type": "code",
   "execution_count": 41,
   "metadata": {
    "scrolled": true
   },
   "outputs": [
    {
     "name": "stdout",
     "output_type": "stream",
     "text": [
      "[**2996-12-2**] 10:25 AM\n",
      " CT CHEST W/O CONTRAST                                           Clip # [**Clip Number (Radiology) 38620**]\n",
      " Reason: please eval for loculated pleural effusion on the right and\n",
      " Field of view: 30\n",
      " ______________________________________________________________________________\n",
      " UNDERLYING MEDICAL CONDITION:\n",
      "  73 year old woman with h/o RUL subtotal resection for lung CA (3/'[**95**]) as well\n",
      "  as a LLL superior segment resection  for Tb and now presents w/ a RLL PNA and\n",
      "  parapneumonic effusion concerning for empyema\n",
      " REASON FOR THIS EXAMINATION:\n",
      "  please eval for loculated pleural effusion on the right and place a pigtail\n",
      "  catheter (send specimen for Gm stain C+S, AFB smear, cytology, Fungal culture)\n",
      "  please do ASAP as pt may require to go to the OR later this afternoon\n",
      " ______________________________________________________________________________\n",
      "                                 FINAL REPORT\n",
      " INDICATION:  [** Location **]US HISTORY OF SUBTOTAL RESECTION FOR LUNG CANCER IN [**Month (only) **]\n",
      " [**2995**] AND PRIOR LEFT LOWER LOBE SUPERIOR SEGMENT RESECTION FOR TUBERCULOSIS,\n",
      " WHO CURRENTLY REPRESENTS A RIGHT LOWER LOBE PNEUMONIA AND PERIPNEUMONIC\n",
      " EFFUSION.  PLEASE ASSESS PLEURAL EFFUSION FOR EVIDENCE OF EMPYEMA.\n",
      "\n",
      " No prior chest CT scans are available for comparison.  Procurement of [** Location **]us\n",
      " chest CT should most helpful in delineating stability of postoperative\n",
      " abnormalities in this patient with history of prior surgeries and prior lung\n",
      " cancer.\n",
      "\n",
      " Helical CT of the thorax was performed without intravenous or oral contrast\n",
      " administration.  Images were acquired with 5 mm collimation and reconstructed\n",
      " at 5 mm intervals.\n",
      "\n",
      " Assessment of the soft tissue structures of the thorax reveals numerous\n",
      " surgical clips in the right perihilar and paramediastinal area.  There is a\n",
      " very small dependent left pleural effusion present and there is a moderate-\n",
      " sized right pleural effusion which has significantly loculated components,\n",
      " predominantly anteriorly and laterally in the lower right hemithorax. Although\n",
      " intravenous contrast was not administered, precluding assessment for\n",
      " enhancement of the pleural surface, there does not appear to be a slightly\n",
      " pleural rind surrounding the loculated components of the pleural fluid.  In\n",
      " addition to the predominantly anteriorly and lateral loculated components,\n",
      " note is made of an additional small posterior loculated extending into the\n",
      " azygoesophageal recess.  The Hounsfield units measurements of the pleural\n",
      " effusion are within the fluid range.\n",
      "\n",
      " The heart is not significantly enlarged and no pericardial effusion is\n",
      " evident.  There are several small mediastinal nodes which are less than 1 cm\n",
      " in greatest short axis dimension and do not meet strict CT criteria for\n",
      " abnormal enlargement.  Assessment of the hilar is limited due to postoperative\n",
      " change and lack of intravenous contrast, but there is a suggestion of right\n",
      " hilar lymph node enlargement.\n",
      "\n",
      " Imaging of the upper portion of the abdomen reveals no significant abnormality\n",
      " in the upper portion of the liver and spleen, but these organs are not\n",
      " completely imaged on this study.  The adrenal glands were not included on the\n",
      " exam.\n",
      "                                                             (Over)\n",
      "\n",
      " [**2996-12-2**] 10:25 AM\n",
      " CT CHEST W/O CONTRAST                                           Clip # [**Clip Number (Radiology) 38620**]\n",
      " Reason: please eval for loculated pleural effusion on the right and\n",
      " Field of view: 30\n",
      " ______________________________________________________________________________\n",
      "                                 FINAL REPORT\n",
      " (Cont)\n",
      "\n",
      " Assessment of the lungs reveals extensive linear opacities at the lung apices,\n",
      " probably reflecting scarring.  Additional sharply geographically marginated\n",
      " areas of increased opacity in the right paramediastinal region with some\n",
      " traction bronchiectasis is noted and may reflect post-radiation change.  A\n",
      " small wedge-shaped ground-glass opacity is seen in the left upper lobe\n",
      " peripherally.  Within the right lung base, there is an area of ground-glass\n",
      " opacification as well as thickened septal lines adjacent to the areas of\n",
      " loculated pleural effusion.  There are also some patchy consolidation\n",
      " peripherally in the right lower lobe, adjacent to the area of loculated\n",
      " pleural fluid.  Multiple band-like linear opacities are seen in the left lung\n",
      " base.  Additionally, there are two adjacent small lung nodules in the left\n",
      " lobe laterally abutting with one of them abutting the pleural surface\n",
      " measuring up to 7 mm in diameter.  One of these contains a band like area of\n",
      " calcium.  No dominant masses are evident.\n",
      "\n",
      " Assessment of the airways reveals some narrowing of the bronchus intermedius\n",
      " which occurs during an area of respiratory excursion and reflect a component\n",
      " of bronchomalacia.  No obstructing airway lesions are identified.  Note is\n",
      " made of increased opacities adjacent to the superior segment region of left\n",
      " lower lobe with pleural and parenchymal components and some calcification\n",
      " probably reflecting postoperative change.  Finally, a slightly nodular opacity\n",
      " is seen within a linear band like opacification at the extreme left lung base.\n",
      "\n",
      " Assessment of the skeletal structures of the thorax reveals deformities of\n",
      " right lateral ribs probably reflecting [** Location **]us surgery.  No suspicious lytic\n",
      " or blastic lesions are identified.\n",
      "\n",
      " IMPRESSION:\n",
      "\n",
      " 1.  Moderate-sized multiloculated right pleural effusion, which contains a\n",
      " slightly thickened pleural rind, concerning for empyema in this patient with\n",
      " history of pneumonia.\n",
      "\n",
      " 2.  Patchy peripheral consolidation in right lower lobe as well as more\n",
      " diffuse ground-glass opacity, in keeping with history of pneumonia.\n",
      "\n",
      " 3.  Right hilar lymph node enlargement, as well as slightly enlarged nodes in\n",
      " the azygoesophageal recess, which may be reactive in this patient with right\n",
      " lower lobe pneumonia.  Follow up CT after treatment of acute infectious\n",
      " process would be helpful to ensure resolution.\n",
      "\n",
      " 4.  Postoperative and probable post-radiation changes in the right lung\n",
      " related to history of partially resected lung cancer.  It is difficult to\n",
      " evaluate for residual disease in the absence of older films for comparison and\n",
      " in the setting of acute infection.\n",
      "                                                             (Over)\n",
      "\n",
      " [**2996-12-2**] 10:25 AM\n",
      " CT CHEST W/O CONTRAST                                           Clip # [**Clip Number (Radiology) 38620**]\n",
      " Reason: please eval for loculated pleural effusion on the right and\n",
      " Field of view: 30\n",
      " ______________________________________________________________________________\n",
      "                                 FINAL REPORT\n",
      " (Cont)\n",
      "\n",
      " 5.  Peripheral ground-glass opacity in left upper lobe, possibly due to\n",
      " additional site of acute infection, but nonspecific.\n",
      "\n",
      " 6.  Two small left lower lung nodules, one of which contains a component of\n",
      " calcification.  These are difficult to assess due to respiratory motion.  At\n",
      " the time of follow up CT, thin section images of these nodules are suggested\n",
      " to better assess for calcium and to help distinguish between benign granulomas\n",
      " and foci of metastatic disease. Granulomatous disease is certainly possible\n",
      " given history of prior left lower lobe surgery for TB.\n",
      "\n",
      " 7.  Emphysema.\n",
      "\n",
      " 8.  Apparent postoperative scarring related to surgery in superior segment\n",
      " left lower lobe region.\n",
      "\n",
      " ADDENDUM:\n",
      "\n",
      " Additional clinical history has just been provided that the patient's\n",
      " partially resected right upper lobe lung cancer was for a bronchoalveolar cell\n",
      " subtype.  With this additional history in mind, the areas of consolidation and\n",
      " ground-glass in the right lower lobe as well as the additional areas of\n",
      " ground-glass opacity of the left upper could potentially be due to\n",
      " bronchoalveolar cell carcinoma.  As pneumonia may also produce the same\n",
      " appearance, comparison to older CT scans and  careful follow up after\n",
      " antibiotic therapy would be helpful in helping to distinguish between these\n",
      " entities.\n",
      "\n",
      "\n",
      "\n",
      "\n"
     ]
    }
   ],
   "source": [
    "print(corpusList[0])"
   ]
  },
  {
   "cell_type": "markdown",
   "metadata": {},
   "source": [
    "### Generate Document-Term Frequency Counts\n",
    "\n",
    "#### In this step we tokenize our text and remove stop words in addition to generating our frequency counts.\n",
    "\n",
    "#### 1) How many documents are we working with and how many features (unigrams & bigrams)?\n",
    "\n",
    "#### 2) Can you figure out what max_df and min_df is doing to our feature count?"
   ]
  },
  {
   "cell_type": "code",
   "execution_count": 42,
   "metadata": {},
   "outputs": [
    {
     "name": "stderr",
     "output_type": "stream",
     "text": [
      "D:\\anaconda3\\lib\\site-packages\\sklearn\\feature_extraction\\text.py:300: UserWarning: Your stop_words may be inconsistent with your preprocessing. Tokenizing the stop words generated tokens ['could', 'might', 'must', 'need', 'sha', 'wo', 'would'] not in stop_words.\n",
      "  'stop_words.' % sorted(inconsistent))\n"
     ]
    },
    {
     "name": "stdout",
     "output_type": "stream",
     "text": [
      "(1500, 920)\n",
      "\n",
      "['abdomen', 'abdomen pelvis', 'abdominal', 'abnormalities', 'abnormality', 'acquired', 'acute', 'addition', 'additional', 'additionally', 'adenopathy', 'adjacent', 'administered', 'administration', 'administration cc', 'administration iv', 'admitted', 'adrenal', 'adrenal glands', 'air', 'air bronchograms', 'airspace', 'airways', 'airways patent', 'allowing', 'along', 'also', 'also noted', 'although', 'alveolar', 'amount', 'amt', 'amt final', 'amt underlying', 'angle', 'anterior', 'aorta', 'aortic', 'apex', 'apical', 'apices', 'appear', 'appearance', 'appears', 'appropriate', 'approximately', 'approximately cm', 'arch', 'area', 'areas', 'areas consolidation', 'arterial', 'arteries', 'artery', 'artery calcifications', 'ascites', 'aspect', 'aspiration', 'assess', 'assessment', 'associated', 'asthma', 'atelectasis', 'atelectasis left', 'atelectasis right', 'atherosclerotic', 'atrial', 'atrium', 'attenuation', 'available', 'axial', 'axial images', 'axillary', 'axillary lymphadenopathy', 'axis', 'background', 'base', 'bases', 'basilar', 'bibasilar', 'bibasilar atelectasis', 'bilateral', 'bilateral lower', 'bilateral pleural', 'bilaterally', 'bladder', 'blastic', 'blunting', 'body', 'bone', 'bone windows', 'bones', 'bowel', 'breath', 'bronchi', 'bronchial', 'bronchograms', 'bronchus', 'c', 'c recons', 'ca', 'cabg', 'cad', 'calcification', 'calcifications', 'calcified', 'caliber', 'cancer', 'cardiac', 'cardiac mediastinal', 'cardiac silhouette', 'cardiomediastinal', 'cardiomediastinal silhouette', 'cardiomegaly', 'carina', 'catheter', 'cc', 'cc optiray', 'central', 'central venous', 'centrilobular', 'centrilobular emphysema', 'change', 'change final', 'changed', 'changes', 'chest clip', 'chest compared', 'chest comparison', 'chest contrast', 'chest ct', 'chest history', 'chest indication', 'chest obtained', 'chest pain', 'chest performed', 'chest radiograph', 'chest radiographs', 'chest single', 'chest tube', 'chest w', 'chest wall', 'chest without', 'chf', 'chf final', 'chronic', 'clear', 'clinical', 'clinical history', 'clinical indication', 'clinically', 'clips', 'cm', 'cm carina', 'collapse', 'collimation', 'colon', 'compared', 'compared location', 'compared prior', 'comparison', 'comparison chest', 'comparison ct', 'comparison findings', 'comparison made', 'comparison prior', 'comparison technique', 'comparisons', 'compatible', 'complete', 'component', 'compression', 'concern', 'concerning', 'condition chf', 'condition copd', 'condition severe', 'condition sob', 'confluent', 'congestion', 'congestive', 'congestive heart', 'considered', 'consistent', 'consolidation', 'consolidation left', 'consolidation right', 'consolidations', 'cont', 'contiguous', 'contiguous axial', 'continued', 'contour', 'contours', 'contours stable', 'contours unchanged', 'contraindications', 'contraindications iv', 'contrast', 'contrast clip', 'contrast ct', 'contrast final', 'contrast optiray', 'contrast wet', 'copd', 'copd exacerbation', 'copd flare', 'coronal', 'coronal sagittal', 'coronary', 'coronary arteries', 'coronary artery', 'correlation', 'costophrenic', 'costophrenic angle', 'cough', 'could', 'could represent', 'criteria', 'ct', 'ct abdomen', 'ct chest', 'ct non', 'ct pelvis', 'cta', 'cta chest', 'cxr', 'cyst', 'dated', 'day', 'days', 'decrease', 'decreased', 'defects', 'definite', 'degenerative', 'degenerative changes', 'degree', 'demonstrate', 'demonstrated', 'demonstrates', 'dense', 'density', 'dependent', 'described', 'diameter', 'diaphragm', 'differential', 'difficult', 'diffuse', 'dilatation', 'discussed', 'discussed name', 'disease', 'distal', 'distress', 'distress reason', 'distribution', 'due', 'dyspnea', 'earlier', 'edema', 'edema final', 'effusion', 'effusion final', 'effusion left', 'effusion pneumothorax', 'effusion right', 'effusion small', 'effusion underlying', 'effusions', 'effusions final', 'effusions right', 'either', 'elevated', 'embolism', 'embolus', 'emphysema', 'emphysematous', 'emphysematous changes', 'endotracheal', 'endotracheal tube', 'enlarged', 'enlarged mediastinal', 'enlargement', 'esophagus', 'et', 'et tube', 'etiology', 'ett', 'eval', 'evaluate', 'evaluated', 'evaluation', 'evidence', 'evidence pneumothorax', 'evidence pulmonary', 'exacerbation', 'exacerbation underlying', 'exam', 'examination assess', 'examination eval', 'examination evaluate', 'examination please', 'exclude', 'excluded', 'extending', 'extensive', 'extent', 'failure', 'failure underlying', 'female', 'fever', 'fevers', 'field', 'field view', 'filling', 'filling defects', 'film', 'films', 'findings', 'findings discussed', 'findings impression', 'first', 'first name', 'fissure', 'flare', 'fluid', 'focal', 'focal consolidation', 'foci', 'foley', 'foley catheter', 'follow', 'following', 'followup', 'fracture', 'fractures', 'free', 'free air', 'free fluid', 'frontal', 'gallbladder', 'given', 'glands', 'glass', 'glass opacities', 'great', 'great vessels', 'greater', 'greater left', 'greater right', 'grossly', 'ground', 'ground glass', 'heart', 'heart enlarged', 'heart failure', 'heart normal', 'heart size', 'helical', 'hemidiaphragm', 'hemithorax', 'hernia', 'high', 'hilar', 'hilar contours', 'hilar lymph', 'hilar lymphadenopathy', 'history', 'history copd', 'hours', 'however', 'hx', 'hyperinflated', 'hypertension', 'hypoxia', 'hypoxia reason', 'identified', 'identified impression', 'ij', 'image', 'imaged', 'images', 'images chest', 'images obtained', 'imaging', 'impression evidence', 'impression interval', 'impression pfi', 'improved', 'improvement', 'improving', 'including', 'incompletely', 'increase', 'increased', 'increased size', 'increasing', 'indication', 'indication history', 'indication male', 'indication shortness', 'indications', 'infection', 'infectious', 'infectious process', 'infiltrate', 'infiltrate final', 'infiltrates', 'initial', 'initial pre', 'inlet', 'internal', 'internal jugular', 'interstitial', 'interstitial edema', 'interval', 'interval change', 'interval improvement', 'interval increase', 'intravenous', 'intravenous contrast', 'intubated', 'intubation', 'involving', 'ionic', 'ionic contrast', 'iv', 'iv contrast', 'jugular', 'junction', 'kidney', 'kidneys', 'known', 'l', 'large', 'largest', 'last', 'last name', 'layering', 'leads', 'left', 'left base', 'left costophrenic', 'left effusion', 'left greater', 'left kidney', 'left lower', 'left lung', 'left pleural', 'left retrocardiac', 'left subclavian', 'left upper', 'lesion', 'lesions', 'lesions identified', 'less', 'level', 'likely', 'likely due', 'likely representing', 'limited', 'limits', 'line', 'line placement', 'linear', 'lines', 'lingula', 'liver', 'liver spleen', 'lll', 'lobe', 'lobe atelectasis', 'lobe consolidation', 'lobe opacity', 'lobe pneumonia', 'lobe right', 'lobes', 'located', 'location', 'location us', 'location usly', 'loculated', 'loops', 'loss', 'low', 'lower', 'lower lobe', 'lower lobes', 'lower lung', 'lung', 'lung apices', 'lung base', 'lung bases', 'lungs', 'lymph', 'lymph node', 'lymph nodes', 'lymphadenopathy', 'lytic', 'lytic blastic', 'lytic sclerotic', 'made', 'made prior', 'main', 'main pulmonary', 'male', 'malignancy', 'marked', 'mass', 'may', 'may represent', 'mdct', 'measures', 'measuring', 'measuring mm', 'median', 'median sternotomy', 'mediastinal', 'mediastinal contours', 'mediastinal hilar', 'mediastinal lymph', 'mediastinum', 'mid', 'middle', 'middle lobe', 'mild', 'mildly', 'minimal', 'mitral', 'mitral valve', 'mm', 'moderate', 'motion', 'multidetector', 'multifocal', 'multifocal pneumonia', 'multiplanar', 'multiplanar reformatted', 'multiple', 'name', 'name stitle', 'name un', 'nasogastric', 'nasogastric tube', 'new', 'ng', 'ng tube', 'node', 'nodes', 'nodular', 'nodule', 'nodules', 'non', 'non ionic', 'none', 'nonionic', 'normal', 'normal caliber', 'normal limits', 'normal size', 'note', 'note made', 'noted', 'obstruction', 'obtained', 'obtained chest', 'one', 'opacification', 'opacities', 'opacity', 'opacity left', 'opacity right', 'optiray', 'optiray amt', 'oral', 'oral contrast', 'osseous', 'osseous structures', 'otherwise', 'overall', 'overlying', 'pacemaker', 'pain', 'pancreas', 'paratracheal', 'parenchyma', 'parenchymal', 'partially', 'particularly', 'patchy', 'patchy opacities', 'patent', 'pathologically', 'pathologically enlarged', 'patient', 'patient status', 'pattern', 'pe', 'pe contraindications', 'pelvic', 'pelvis', 'pelvis contrast', 'performed', 'performed without', 'pericardial', 'pericardial effusion', 'perihilar', 'peripheral', 'persistent', 'pfi', 'physician', 'physician initial', 'picc', 'picc line', 'place', 'placement', 'placement final', 'please', 'please assess', 'please eval', 'please evaluate', 'pleural', 'pleural effusion', 'pleural effusions', 'pleural thickening', 'pna', 'pneumonia', 'pneumonia final', 'pneumonia underlying', 'pneumothorax', 'pneumothorax identified', 'portion', 'portions', 'position', 'possible', 'possibly', 'post', 'posterior', 'posteriorly', 'pre', 'pre number', 'predominantly', 'presence', 'present', 'prevascular', 'prior', 'prior chest', 'prior study', 'probable', 'probably', 'process', 'progression', 'prominence', 'prominent', 'provisional', 'provisional findings', 'proximal', 'ptx', 'pulm', 'pulmonary', 'pulmonary arterial', 'pulmonary arteries', 'pulmonary artery', 'pulmonary edema', 'pulmonary embolism', 'pulmonary vascular', 'pulmonary vascularity', 'pulmonary vasculature', 'question', 'r', 'radiograph', 'radiograph chest', 'radiographs', 'radiology ct', 'reactive', 'read', 'reason assess', 'reason eval', 'reason evaluate', 'reason please', 'recent', 'recommended', 'recons', 'recons clip', 'recons ct', 'redistribution', 'reflect', 'reformations', 'reformats', 'reformatted', 'reformatted images', 'region', 'regions', 'related', 'remain', 'remains', 'removed', 'renal', 'renal failure', 'replacement', 'report chest', 'report clinical', 'report cont', 'report ct', 'report history', 'report indication', 'report indications', 'represent', 'representing', 'represents', 'residual', 'resolution', 'resp', 'resp distress', 'respiratory', 'respiratory distress', 'respiratory failure', 'retrocardiac', 'retroperitoneal', 'reviewed', 'rib', 'rib fractures', 'right', 'right atrium', 'right base', 'right greater', 'right hilar', 'right ij', 'right internal', 'right left', 'right lower', 'right lung', 'right middle', 'right pleural', 'right sided', 'right upper', 'rll', 'rule', 'sagittal', 'satisfactory', 'satisfactory position', 'scan', 'scarring', 'scattered', 'sclerotic', 'secondary', 'secretions', 'seen', 'seen left', 'seen right', 'seen within', 'segment', 'segmental', 'septal', 'series', 'setting', 'several', 'severe', 'severe emphysema', 'short', 'shortness', 'shortness breath', 'show', 'side', 'sided', 'sided pleural', 'significant', 'significant change', 'significantly', 'significantly changed', 'silhouette', 'similar', 'simple', 'since', 'since prior', 'single', 'single view', 'size', 'size normal', 'slight', 'slightly', 'small', 'small amount', 'small bilateral', 'small bowel', 'small left', 'small pleural', 'small right', 'smaller', 'sob', 'sob reason', 'soft', 'soft tissue', 'somewhat', 'space', 'spine', 'spleen', 'stable', 'stable appearance', 'status', 'status post', 'sternotomy', 'stitle', 'stomach', 'structures', 'structures unremarkable', 'studies', 'study', 'subcarinal', 'subclavian', 'subcutaneous', 'subdiaphragmatic', 'subsegmental', 'suggest', 'suggesting', 'suggestive', 'superimposed', 'superior', 'supine', 'surgical', 'suspicious', 'suspicious lytic', 'svc', 'tailored', 'technique', 'technique axial', 'technique contiguous', 'technique mdct', 'terminates', 'terminating', 'thickening', 'thoracic', 'thoracic aorta', 'thoracic inlet', 'thoracic spine', 'though', 'throughout', 'thyroid', 'time', 'tiny', 'tip', 'tissue', 'tissues', 'today', 'trace', 'trachea', 'tracheostomy', 'tracheostomy tube', 'tube', 'tube placement', 'tube tip', 'tubes', 'two', 'un', 'unchanged', 'unchanged impression', 'unchanged position', 'unremarkable', 'unremarkable impression', 'upper', 'upper abdomen', 'upper lobe', 'upper lobes', 'upper lung', 'upper zone', 'upright', 'upright chest', 'us', 'us study', 'usly', 'valve', 'valve replacement', 'vascular', 'vascular congestion', 'vascularity', 'vasculature', 'vein', 'venous', 'venous catheter', 'venous line', 'ventricular', 'versus', 'vessels', 'view', 'view chest', 'view contrast', 'view final', 'view underlying', 'views', 'visualized', 'volume', 'vs', 'w', 'w c', 'wall', 'wall thickening', 'well', 'wet', 'wet read', 'windows', 'wires', 'within', 'within left', 'within normal', 'within right', 'without', 'without contrast', 'without evidence', 'without intravenous', 'without iv', 'worse', 'worsening', 'would', 'x', 'x cm', 'yo', 'zone', 'zone redistribution']\n",
      "\n"
     ]
    }
   ],
   "source": [
    "#cv = CountVectorizer(lowercase=True, max_df=0.90, max_features=None, min_df=0.033,\n",
    "#                     ngram_range=(1, 2), preprocessor=None, stop_words=cachedStopWords,\n",
    "#                     strip_accents=None, tokenizer=tokenize, vocabulary=None)\n",
    "cv = TfidfVectorizer(lowercase=True, max_df=0.90, max_features=None, min_df=0.033,\n",
    "                     ngram_range=(1, 2), preprocessor=None, stop_words=cachedStopWords,\n",
    "                     strip_accents=None, tokenizer=tokenize, vocabulary=None)\n",
    "X = cv.fit_transform(corpusList)\n",
    "print(X.shape)\n",
    "print()\n",
    "lexicon = cv.get_feature_names()\n",
    "print (lexicon)\n",
    "print()"
   ]
  },
  {
   "cell_type": "markdown",
   "metadata": {},
   "source": [
    "### Construct our Classes\n",
    "\n",
    "#### We need to assign a class for each classification. We typically assign numeric values to classes."
   ]
  },
  {
   "cell_type": "code",
   "execution_count": 43,
   "metadata": {},
   "outputs": [],
   "source": [
    "corpus['label'] = corpus['label'].map({'COPD': 0, 'CHF': 0, 'PNA': 1})\n",
    "corpus.head()\n",
    "Y = corpus['label'].values"
   ]
  },
  {
   "cell_type": "markdown",
   "metadata": {},
   "source": [
    "### Let's Run It!\n",
    "\n",
    "#### We will generate models and evaluate the modes using 10-fold cross-validation."
   ]
  },
  {
   "cell_type": "code",
   "execution_count": 45,
   "metadata": {},
   "outputs": [
    {
     "name": "stdout",
     "output_type": "stream",
     "text": [
      "model  0 : DT K = 1\n",
      "   Fold 1 accuracy: 83.33 %\n",
      "   Fold 2 accuracy: 83.33 %\n",
      "   Fold 3 accuracy: 84.00 %\n",
      "   Fold 4 accuracy: 84.67 %\n",
      "   Fold 5 accuracy: 85.33 %\n",
      "   Fold 6 accuracy: 82.00 %\n",
      "   Fold 7 accuracy: 80.67 %\n",
      "   Fold 8 accuracy: 85.33 %\n",
      "   Fold 9 accuracy: 82.67 %\n",
      "   Fold 10 accuracy: 80.00 %\n",
      "     Overall test accuracy: 83.13 %\n",
      "     Overall training accuracy: 100.00 %\n",
      "model  1 : DT K = 3\n",
      "   Fold 1 accuracy: 82.67 %\n",
      "   Fold 2 accuracy: 82.00 %\n",
      "   Fold 3 accuracy: 88.00 %\n",
      "   Fold 4 accuracy: 85.33 %\n",
      "   Fold 5 accuracy: 78.67 %\n",
      "   Fold 6 accuracy: 78.00 %\n",
      "   Fold 7 accuracy: 82.67 %\n",
      "   Fold 8 accuracy: 84.67 %\n",
      "   Fold 9 accuracy: 85.33 %\n",
      "   Fold 10 accuracy: 82.67 %\n",
      "     Overall test accuracy: 83.00 %\n",
      "     Overall training accuracy: 98.33 %\n",
      "model  2 : DT K = 5\n",
      "   Fold 1 accuracy: 82.00 %\n",
      "   Fold 2 accuracy: 83.33 %\n",
      "   Fold 3 accuracy: 80.00 %\n",
      "   Fold 4 accuracy: 78.00 %\n",
      "   Fold 5 accuracy: 90.00 %\n",
      "   Fold 6 accuracy: 86.00 %\n",
      "   Fold 7 accuracy: 85.33 %\n",
      "   Fold 8 accuracy: 79.33 %\n",
      "   Fold 9 accuracy: 85.33 %\n",
      "   Fold 10 accuracy: 80.67 %\n",
      "     Overall test accuracy: 83.00 %\n",
      "     Overall training accuracy: 95.87 %\n",
      "model  3 : DT K = 10\n",
      "   Fold 1 accuracy: 88.67 %\n",
      "   Fold 2 accuracy: 80.67 %\n",
      "   Fold 3 accuracy: 81.33 %\n",
      "   Fold 4 accuracy: 86.67 %\n",
      "   Fold 5 accuracy: 84.67 %\n",
      "   Fold 6 accuracy: 79.33 %\n",
      "   Fold 7 accuracy: 86.67 %\n",
      "   Fold 8 accuracy: 84.00 %\n",
      "   Fold 9 accuracy: 84.00 %\n",
      "   Fold 10 accuracy: 80.67 %\n",
      "     Overall test accuracy: 83.67 %\n",
      "     Overall training accuracy: 92.47 %\n",
      "model  4 : DT K = 15\n",
      "   Fold 1 accuracy: 86.00 %\n",
      "   Fold 2 accuracy: 81.33 %\n",
      "   Fold 3 accuracy: 78.67 %\n",
      "   Fold 4 accuracy: 86.67 %\n",
      "   Fold 5 accuracy: 82.67 %\n",
      "   Fold 6 accuracy: 87.33 %\n",
      "   Fold 7 accuracy: 82.67 %\n",
      "   Fold 8 accuracy: 84.00 %\n",
      "   Fold 9 accuracy: 83.33 %\n",
      "   Fold 10 accuracy: 85.33 %\n",
      "     Overall test accuracy: 83.80 %\n",
      "     Overall training accuracy: 90.93 %\n",
      "model  5 : DT K = 20\n",
      "   Fold 1 accuracy: 88.00 %\n",
      "   Fold 2 accuracy: 88.00 %\n",
      "   Fold 3 accuracy: 81.33 %\n",
      "   Fold 4 accuracy: 85.33 %\n",
      "   Fold 5 accuracy: 80.67 %\n",
      "   Fold 6 accuracy: 83.33 %\n",
      "   Fold 7 accuracy: 84.00 %\n",
      "   Fold 8 accuracy: 82.00 %\n",
      "   Fold 9 accuracy: 81.33 %\n",
      "   Fold 10 accuracy: 84.67 %\n",
      "     Overall test accuracy: 83.87 %\n",
      "     Overall training accuracy: 89.47 %\n",
      "model  6 : DT K = 40\n",
      "   Fold 1 accuracy: 86.67 %\n",
      "   Fold 2 accuracy: 80.67 %\n",
      "   Fold 3 accuracy: 83.33 %\n",
      "   Fold 4 accuracy: 80.00 %\n",
      "   Fold 5 accuracy: 86.67 %\n",
      "   Fold 6 accuracy: 84.67 %\n",
      "   Fold 7 accuracy: 76.00 %\n",
      "   Fold 8 accuracy: 84.00 %\n",
      "   Fold 9 accuracy: 82.67 %\n",
      "   Fold 10 accuracy: 84.67 %\n",
      "     Overall test accuracy: 82.93 %\n",
      "     Overall training accuracy: 87.53 %\n"
     ]
    }
   ],
   "source": [
    "results = []\n",
    "cont = []\n",
    "kf = KFold(n_splits=10, shuffle=True)\n",
    "K = [1, 3, 5, 10, 15, 20, 40]\n",
    "for k in range(len(K)):\n",
    "    fold = 1\n",
    "    truth = []\n",
    "    dt_prediction = []\n",
    "    print(\"model \", k, \": DT K = \" + str(K[k]))\n",
    "    test_count = 0\n",
    "    dt = DecisionTreeClassifier(random_state=0, min_samples_leaf=K[k], criterion=\"entropy\")\n",
    "    for train_idx, test_idx in kf.split(X):\n",
    "        trainX = X[train_idx]\n",
    "        trainY = Y[train_idx]\n",
    "        testX = X[test_idx]\n",
    "        testY = Y[test_idx]\n",
    "        truth.append(testY)\n",
    "        dt.fit(trainX, trainY)\n",
    "        Y_hat = dt.predict(testX)\n",
    "        dt_prediction.append(Y_hat)\n",
    "        print(\"   Fold %d accuracy: %.2f %%\" % (fold, ((np.sum(Y_hat == testY)/len(testY)) * 100.0)))                        \n",
    "        fold += 1\n",
    "    truth = np.concatenate(truth, axis=0)    \n",
    "    dt_prediction = np.concatenate(dt_prediction, axis=0)\n",
    "    test_results = np.sum(dt_prediction == truth)/len(truth)\n",
    "    print(\"     Overall test accuracy: %.2f %%\" % (test_results * 100))  \n",
    "    dt = dt.fit(X, Y)\n",
    "    Y_hat = dt.predict(X)\n",
    "    train_results = np.sum(Y_hat == Y)/len(Y)\n",
    "    print(\"     Overall training accuracy: %.2f %%\" % (train_results * 100.0))  \n",
    "    results.append([train_results, test_results])   \n",
    "    cont.append([truth, dt_prediction])\n",
    "\n"
   ]
  },
  {
   "cell_type": "code",
   "execution_count": 46,
   "metadata": {
    "scrolled": true
   },
   "outputs": [
    {
     "data": {
      "image/png": "[encoded data removed]",
      "text/plain": [
       "<Figure size 432x288 with 1 Axes>"
      ]
     },
     "metadata": {
      "needs_background": "light"
     },
     "output_type": "display_data"
    }
   ],
   "source": [
    "tracc = [item[0] for item in results]\n",
    "tstacc = [item[1] for item in results]\n",
    "\n",
    "trainAcc = plt.plot(K, tracc, '-b', label='Training Error')\n",
    "testACC = plt.plot(K, tstacc, '-g', label='Testing Error')\n",
    "plt.title(\"DT Accuracy versus K Model Parameter\")\n",
    "plt.ylabel(\"Accuracy\")\n",
    "plt.xlabel(\"K\")\n",
    "plt.legend(loc=1)\n",
    "plt.show(block=False)"
   ]
  },
  {
   "cell_type": "markdown",
   "metadata": {},
   "source": [
    "### Contingency Tables\n",
    "\n",
    "#### Let's look at the contingency tables\n",
    "\n",
    "#### 1) Can you calculate the Sensitivity, Specificity, PPV, NPV? "
   ]
  },
  {
   "cell_type": "code",
   "execution_count": 47,
   "metadata": {
    "scrolled": true
   },
   "outputs": [
    {
     "name": "stdout",
     "output_type": "stream",
     "text": [
      "Enter Best Model: 5\n",
      "\n",
      "Decision Tree\n",
      "       Other  PNA  Total\n",
      "Other    890  132   1022\n",
      "PNA      110  368    478\n",
      "Total   1000  500   1500\n",
      "\n"
     ]
    }
   ],
   "source": [
    "model = input(\"Enter Best Model: \")\n",
    "best = cont[int(model)]\n",
    "dt_ct = pd.crosstab(best[1], best[0], margins=True)\n",
    "dt_ct.columns = [\"Other\", \"PNA\", \"Total\"]\n",
    "dt_ct.index = [\"Other\", \"PNA\", \"Total\"]\n",
    "print()\n",
    "print(\"Decision Tree\")\n",
    "print(dt_ct)\n",
    "print()\n"
   ]
  },
  {
   "cell_type": "markdown",
   "metadata": {},
   "source": [
    "### Evaluation Statistics\n",
    "\n",
    "#### We will calculate some test statistics for our classifiers"
   ]
  },
  {
   "cell_type": "code",
   "execution_count": 48,
   "metadata": {},
   "outputs": [
    {
     "name": "stdout",
     "output_type": "stream",
     "text": [
      "Decision Tree: Sensitivity: 0.73600 Specificity: 0.89000 PPV: 0.76987 NPV: 0.87084 Accuracy: 0.83867\n"
     ]
    }
   ],
   "source": [
    "Sens = dt_ct.iloc[1][1]/dt_ct.iloc[2][1]\n",
    "Spec = dt_ct.iloc[0][0]/dt_ct.iloc[2][0]\n",
    "PPV = dt_ct.iloc[1][1]/dt_ct.iloc[1][2]\n",
    "NPV = dt_ct.iloc[0][0]/dt_ct.iloc[0][2]\n",
    "ACC = (dt_ct.iloc[0][0] + dt_ct.iloc[1][1]) / dt_ct.iloc[2][2]\n",
    "print(\"Decision Tree: Sensitivity: %.5f Specificity: %.5f PPV: %.5f NPV: %.5f Accuracy: %.5f\" % (Sens, Spec, PPV, NPV, ACC))                                                                                      "
   ]
  },
  {
   "cell_type": "markdown",
   "metadata": {
    "collapsed": true
   },
   "source": [
    "### ROC Curve\n",
    "\n",
    "#### 1) So which classifier do you think is better?"
   ]
  },
  {
   "cell_type": "code",
   "execution_count": 49,
   "metadata": {},
   "outputs": [
    {
     "data": {
      "image/png": "[encoded data removed]",
      "text/plain": [
       "<Figure size 432x288 with 1 Axes>"
      ]
     },
     "metadata": {
      "needs_background": "light"
     },
     "output_type": "display_data"
    },
    {
     "name": "stdout",
     "output_type": "stream",
     "text": [
      "AUC =  0.813\n"
     ]
    }
   ],
   "source": [
    "dt_fpr, dt_tpr, dt_thresholds = roc_curve(best[0], best[1], pos_label=1)\n",
    "roc_auc = auc(dt_fpr, dt_tpr)\n",
    "plt.figure(1)\n",
    "plt.plot([0, 1], [0, 1], 'k--')\n",
    "plt.plot(dt_fpr, dt_tpr, label='DecisionTree')\n",
    "plt.xlabel('False positive rate (1 - Specificity)')\n",
    "plt.ylabel('True Positive Rate (Sensitivity)')\n",
    "plt.title('ROC curve')\n",
    "plt.legend(loc='best')\n",
    "plt.show()\n",
    "print(\"AUC = \", roc_auc)"
   ]
  },
  {
   "cell_type": "code",
   "execution_count": null,
   "metadata": {},
   "outputs": [],
   "source": []
  },
  {
   "cell_type": "code",
   "execution_count": null,
   "metadata": {},
   "outputs": [],
   "source": []
  }
 ],
 "metadata": {
  "kernelspec": {
   "display_name": "Python 3",
   "language": "python",
   "name": "python3"
  },
  "language_info": {
   "codemirror_mode": {
    "name": "ipython",
    "version": 3
   },
   "file_extension": ".py",
   "mimetype": "text/x-python",
   "name": "python",
   "nbconvert_exporter": "python",
   "pygments_lexer": "ipython3",
   "version": "3.6.7"
  },
  "widgets": {
   "state": {},
   "version": "1.1.1"
  }
 },
 "nbformat": 4,
 "nbformat_minor": 1
}
